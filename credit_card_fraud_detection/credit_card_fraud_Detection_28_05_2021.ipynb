{
 "cells": [
  {
   "cell_type": "markdown",
   "metadata": {
    "id": "tDAP3aiRg5mH"
   },
   "source": [
    "## Credit card Fraud Detection (Handling Imbalanced dataset using ML)"
   ]
  },
  {
   "cell_type": "markdown",
   "metadata": {
    "id": "XCo7sAbdg5mM"
   },
   "source": [
    "# Loading Dataset"
   ]
  },
  {
   "cell_type": "code",
   "execution_count": 1,
   "metadata": {
    "id": "7BMayWvYg5mN"
   },
   "outputs": [],
   "source": [
    "#pip install pandas\n"
   ]
  },
  {
   "cell_type": "code",
   "execution_count": 2,
   "metadata": {
    "colab": {
     "base_uri": "https://localhost:8080/",
     "height": 0
    },
    "id": "2Um2eGC4g5mP",
    "outputId": "74f9fd53-e4e3-4fab-a41d-847757165add",
    "scrolled": true
   },
   "outputs": [
    {
     "data": {
      "text/html": [
       "<div>\n",
       "<style scoped>\n",
       "    .dataframe tbody tr th:only-of-type {\n",
       "        vertical-align: middle;\n",
       "    }\n",
       "\n",
       "    .dataframe tbody tr th {\n",
       "        vertical-align: top;\n",
       "    }\n",
       "\n",
       "    .dataframe thead th {\n",
       "        text-align: right;\n",
       "    }\n",
       "</style>\n",
       "<table border=\"1\" class=\"dataframe\">\n",
       "  <thead>\n",
       "    <tr style=\"text-align: right;\">\n",
       "      <th></th>\n",
       "      <th>Time</th>\n",
       "      <th>V1</th>\n",
       "      <th>V2</th>\n",
       "      <th>V3</th>\n",
       "      <th>V4</th>\n",
       "      <th>V5</th>\n",
       "      <th>V6</th>\n",
       "      <th>V7</th>\n",
       "      <th>V8</th>\n",
       "      <th>V9</th>\n",
       "      <th>...</th>\n",
       "      <th>V21</th>\n",
       "      <th>V22</th>\n",
       "      <th>V23</th>\n",
       "      <th>V24</th>\n",
       "      <th>V25</th>\n",
       "      <th>V26</th>\n",
       "      <th>V27</th>\n",
       "      <th>V28</th>\n",
       "      <th>Amount</th>\n",
       "      <th>Class</th>\n",
       "    </tr>\n",
       "  </thead>\n",
       "  <tbody>\n",
       "    <tr>\n",
       "      <th>0</th>\n",
       "      <td>0.0</td>\n",
       "      <td>-1.359807</td>\n",
       "      <td>-0.072781</td>\n",
       "      <td>2.536347</td>\n",
       "      <td>1.378155</td>\n",
       "      <td>-0.338321</td>\n",
       "      <td>0.462388</td>\n",
       "      <td>0.239599</td>\n",
       "      <td>0.098698</td>\n",
       "      <td>0.363787</td>\n",
       "      <td>...</td>\n",
       "      <td>-0.018307</td>\n",
       "      <td>0.277838</td>\n",
       "      <td>-0.110474</td>\n",
       "      <td>0.066928</td>\n",
       "      <td>0.128539</td>\n",
       "      <td>-0.189115</td>\n",
       "      <td>0.133558</td>\n",
       "      <td>-0.021053</td>\n",
       "      <td>149.62</td>\n",
       "      <td>0</td>\n",
       "    </tr>\n",
       "    <tr>\n",
       "      <th>1</th>\n",
       "      <td>0.0</td>\n",
       "      <td>1.191857</td>\n",
       "      <td>0.266151</td>\n",
       "      <td>0.166480</td>\n",
       "      <td>0.448154</td>\n",
       "      <td>0.060018</td>\n",
       "      <td>-0.082361</td>\n",
       "      <td>-0.078803</td>\n",
       "      <td>0.085102</td>\n",
       "      <td>-0.255425</td>\n",
       "      <td>...</td>\n",
       "      <td>-0.225775</td>\n",
       "      <td>-0.638672</td>\n",
       "      <td>0.101288</td>\n",
       "      <td>-0.339846</td>\n",
       "      <td>0.167170</td>\n",
       "      <td>0.125895</td>\n",
       "      <td>-0.008983</td>\n",
       "      <td>0.014724</td>\n",
       "      <td>2.69</td>\n",
       "      <td>0</td>\n",
       "    </tr>\n",
       "    <tr>\n",
       "      <th>2</th>\n",
       "      <td>1.0</td>\n",
       "      <td>-1.358354</td>\n",
       "      <td>-1.340163</td>\n",
       "      <td>1.773209</td>\n",
       "      <td>0.379780</td>\n",
       "      <td>-0.503198</td>\n",
       "      <td>1.800499</td>\n",
       "      <td>0.791461</td>\n",
       "      <td>0.247676</td>\n",
       "      <td>-1.514654</td>\n",
       "      <td>...</td>\n",
       "      <td>0.247998</td>\n",
       "      <td>0.771679</td>\n",
       "      <td>0.909412</td>\n",
       "      <td>-0.689281</td>\n",
       "      <td>-0.327642</td>\n",
       "      <td>-0.139097</td>\n",
       "      <td>-0.055353</td>\n",
       "      <td>-0.059752</td>\n",
       "      <td>378.66</td>\n",
       "      <td>0</td>\n",
       "    </tr>\n",
       "    <tr>\n",
       "      <th>3</th>\n",
       "      <td>1.0</td>\n",
       "      <td>-0.966272</td>\n",
       "      <td>-0.185226</td>\n",
       "      <td>1.792993</td>\n",
       "      <td>-0.863291</td>\n",
       "      <td>-0.010309</td>\n",
       "      <td>1.247203</td>\n",
       "      <td>0.237609</td>\n",
       "      <td>0.377436</td>\n",
       "      <td>-1.387024</td>\n",
       "      <td>...</td>\n",
       "      <td>-0.108300</td>\n",
       "      <td>0.005274</td>\n",
       "      <td>-0.190321</td>\n",
       "      <td>-1.175575</td>\n",
       "      <td>0.647376</td>\n",
       "      <td>-0.221929</td>\n",
       "      <td>0.062723</td>\n",
       "      <td>0.061458</td>\n",
       "      <td>123.50</td>\n",
       "      <td>0</td>\n",
       "    </tr>\n",
       "    <tr>\n",
       "      <th>4</th>\n",
       "      <td>2.0</td>\n",
       "      <td>-1.158233</td>\n",
       "      <td>0.877737</td>\n",
       "      <td>1.548718</td>\n",
       "      <td>0.403034</td>\n",
       "      <td>-0.407193</td>\n",
       "      <td>0.095921</td>\n",
       "      <td>0.592941</td>\n",
       "      <td>-0.270533</td>\n",
       "      <td>0.817739</td>\n",
       "      <td>...</td>\n",
       "      <td>-0.009431</td>\n",
       "      <td>0.798278</td>\n",
       "      <td>-0.137458</td>\n",
       "      <td>0.141267</td>\n",
       "      <td>-0.206010</td>\n",
       "      <td>0.502292</td>\n",
       "      <td>0.219422</td>\n",
       "      <td>0.215153</td>\n",
       "      <td>69.99</td>\n",
       "      <td>0</td>\n",
       "    </tr>\n",
       "  </tbody>\n",
       "</table>\n",
       "<p>5 rows × 31 columns</p>\n",
       "</div>"
      ],
      "text/plain": [
       "   Time        V1        V2        V3        V4        V5        V6        V7  \\\n",
       "0   0.0 -1.359807 -0.072781  2.536347  1.378155 -0.338321  0.462388  0.239599   \n",
       "1   0.0  1.191857  0.266151  0.166480  0.448154  0.060018 -0.082361 -0.078803   \n",
       "2   1.0 -1.358354 -1.340163  1.773209  0.379780 -0.503198  1.800499  0.791461   \n",
       "3   1.0 -0.966272 -0.185226  1.792993 -0.863291 -0.010309  1.247203  0.237609   \n",
       "4   2.0 -1.158233  0.877737  1.548718  0.403034 -0.407193  0.095921  0.592941   \n",
       "\n",
       "         V8        V9  ...       V21       V22       V23       V24       V25  \\\n",
       "0  0.098698  0.363787  ... -0.018307  0.277838 -0.110474  0.066928  0.128539   \n",
       "1  0.085102 -0.255425  ... -0.225775 -0.638672  0.101288 -0.339846  0.167170   \n",
       "2  0.247676 -1.514654  ...  0.247998  0.771679  0.909412 -0.689281 -0.327642   \n",
       "3  0.377436 -1.387024  ... -0.108300  0.005274 -0.190321 -1.175575  0.647376   \n",
       "4 -0.270533  0.817739  ... -0.009431  0.798278 -0.137458  0.141267 -0.206010   \n",
       "\n",
       "        V26       V27       V28  Amount  Class  \n",
       "0 -0.189115  0.133558 -0.021053  149.62      0  \n",
       "1  0.125895 -0.008983  0.014724    2.69      0  \n",
       "2 -0.139097 -0.055353 -0.059752  378.66      0  \n",
       "3 -0.221929  0.062723  0.061458  123.50      0  \n",
       "4  0.502292  0.219422  0.215153   69.99      0  \n",
       "\n",
       "[5 rows x 31 columns]"
      ]
     },
     "execution_count": 2,
     "metadata": {},
     "output_type": "execute_result"
    }
   ],
   "source": [
    "import pandas as pd\n",
    "df=pd.read_csv('creditcard.csv')\n",
    "df.head()"
   ]
  },
  {
   "cell_type": "code",
   "execution_count": 3,
   "metadata": {
    "colab": {
     "base_uri": "https://localhost:8080/"
    },
    "id": "B2_XQQOZg5mR",
    "outputId": "8f34d765-96cb-45be-9259-6a528a34a69c"
   },
   "outputs": [
    {
     "data": {
      "text/plain": [
       "(284807, 31)"
      ]
     },
     "execution_count": 3,
     "metadata": {},
     "output_type": "execute_result"
    }
   ],
   "source": [
    "df.shape"
   ]
  },
  {
   "cell_type": "code",
   "execution_count": 4,
   "metadata": {
    "colab": {
     "base_uri": "https://localhost:8080/"
    },
    "id": "lpqfJmG6g5mS",
    "outputId": "801d055f-21d3-415d-dda6-84d7b33da2e1"
   },
   "outputs": [
    {
     "data": {
      "text/plain": [
       "0    284315\n",
       "1       492\n",
       "Name: Class, dtype: int64"
      ]
     },
     "execution_count": 4,
     "metadata": {},
     "output_type": "execute_result"
    }
   ],
   "source": [
    "df['Class'].value_counts()"
   ]
  },
  {
   "cell_type": "code",
   "execution_count": 5,
   "metadata": {
    "colab": {
     "base_uri": "https://localhost:8080/",
     "height": 0
    },
    "id": "w-3cRaTig5mT",
    "outputId": "1ca8469a-59e8-475d-e7b5-b08fe78395d5"
   },
   "outputs": [
    {
     "data": {
      "text/html": [
       "<div>\n",
       "<style scoped>\n",
       "    .dataframe tbody tr th:only-of-type {\n",
       "        vertical-align: middle;\n",
       "    }\n",
       "\n",
       "    .dataframe tbody tr th {\n",
       "        vertical-align: top;\n",
       "    }\n",
       "\n",
       "    .dataframe thead th {\n",
       "        text-align: right;\n",
       "    }\n",
       "</style>\n",
       "<table border=\"1\" class=\"dataframe\">\n",
       "  <thead>\n",
       "    <tr style=\"text-align: right;\">\n",
       "      <th></th>\n",
       "      <th>Time</th>\n",
       "      <th>V1</th>\n",
       "      <th>V2</th>\n",
       "      <th>V3</th>\n",
       "      <th>V4</th>\n",
       "      <th>V5</th>\n",
       "      <th>V6</th>\n",
       "      <th>V7</th>\n",
       "      <th>V8</th>\n",
       "      <th>V9</th>\n",
       "      <th>...</th>\n",
       "      <th>V21</th>\n",
       "      <th>V22</th>\n",
       "      <th>V23</th>\n",
       "      <th>V24</th>\n",
       "      <th>V25</th>\n",
       "      <th>V26</th>\n",
       "      <th>V27</th>\n",
       "      <th>V28</th>\n",
       "      <th>Amount</th>\n",
       "      <th>Class</th>\n",
       "    </tr>\n",
       "  </thead>\n",
       "  <tbody>\n",
       "    <tr>\n",
       "      <th>count</th>\n",
       "      <td>284807.000000</td>\n",
       "      <td>2.848070e+05</td>\n",
       "      <td>2.848070e+05</td>\n",
       "      <td>2.848070e+05</td>\n",
       "      <td>2.848070e+05</td>\n",
       "      <td>2.848070e+05</td>\n",
       "      <td>2.848070e+05</td>\n",
       "      <td>2.848070e+05</td>\n",
       "      <td>2.848070e+05</td>\n",
       "      <td>2.848070e+05</td>\n",
       "      <td>...</td>\n",
       "      <td>2.848070e+05</td>\n",
       "      <td>2.848070e+05</td>\n",
       "      <td>2.848070e+05</td>\n",
       "      <td>2.848070e+05</td>\n",
       "      <td>2.848070e+05</td>\n",
       "      <td>2.848070e+05</td>\n",
       "      <td>2.848070e+05</td>\n",
       "      <td>2.848070e+05</td>\n",
       "      <td>284807.000000</td>\n",
       "      <td>284807.000000</td>\n",
       "    </tr>\n",
       "    <tr>\n",
       "      <th>mean</th>\n",
       "      <td>94813.859575</td>\n",
       "      <td>1.758743e-12</td>\n",
       "      <td>-8.252298e-13</td>\n",
       "      <td>-9.636929e-13</td>\n",
       "      <td>8.316157e-13</td>\n",
       "      <td>1.591952e-13</td>\n",
       "      <td>4.247354e-13</td>\n",
       "      <td>-3.050180e-13</td>\n",
       "      <td>8.693344e-14</td>\n",
       "      <td>-1.179712e-12</td>\n",
       "      <td>...</td>\n",
       "      <td>-3.406543e-13</td>\n",
       "      <td>-5.713163e-13</td>\n",
       "      <td>-9.725303e-13</td>\n",
       "      <td>1.464139e-12</td>\n",
       "      <td>-6.989087e-13</td>\n",
       "      <td>-5.615260e-13</td>\n",
       "      <td>3.332112e-12</td>\n",
       "      <td>-3.518886e-12</td>\n",
       "      <td>88.349619</td>\n",
       "      <td>0.001727</td>\n",
       "    </tr>\n",
       "    <tr>\n",
       "      <th>std</th>\n",
       "      <td>47488.145955</td>\n",
       "      <td>1.958696e+00</td>\n",
       "      <td>1.651309e+00</td>\n",
       "      <td>1.516255e+00</td>\n",
       "      <td>1.415869e+00</td>\n",
       "      <td>1.380247e+00</td>\n",
       "      <td>1.332271e+00</td>\n",
       "      <td>1.237094e+00</td>\n",
       "      <td>1.194353e+00</td>\n",
       "      <td>1.098632e+00</td>\n",
       "      <td>...</td>\n",
       "      <td>7.345240e-01</td>\n",
       "      <td>7.257016e-01</td>\n",
       "      <td>6.244603e-01</td>\n",
       "      <td>6.056471e-01</td>\n",
       "      <td>5.212781e-01</td>\n",
       "      <td>4.822270e-01</td>\n",
       "      <td>4.036325e-01</td>\n",
       "      <td>3.300833e-01</td>\n",
       "      <td>250.120109</td>\n",
       "      <td>0.041527</td>\n",
       "    </tr>\n",
       "    <tr>\n",
       "      <th>min</th>\n",
       "      <td>0.000000</td>\n",
       "      <td>-5.640751e+01</td>\n",
       "      <td>-7.271573e+01</td>\n",
       "      <td>-4.832559e+01</td>\n",
       "      <td>-5.683171e+00</td>\n",
       "      <td>-1.137433e+02</td>\n",
       "      <td>-2.616051e+01</td>\n",
       "      <td>-4.355724e+01</td>\n",
       "      <td>-7.321672e+01</td>\n",
       "      <td>-1.343407e+01</td>\n",
       "      <td>...</td>\n",
       "      <td>-3.483038e+01</td>\n",
       "      <td>-1.093314e+01</td>\n",
       "      <td>-4.480774e+01</td>\n",
       "      <td>-2.836627e+00</td>\n",
       "      <td>-1.029540e+01</td>\n",
       "      <td>-2.604551e+00</td>\n",
       "      <td>-2.256568e+01</td>\n",
       "      <td>-1.543008e+01</td>\n",
       "      <td>0.000000</td>\n",
       "      <td>0.000000</td>\n",
       "    </tr>\n",
       "    <tr>\n",
       "      <th>25%</th>\n",
       "      <td>54201.500000</td>\n",
       "      <td>-9.203734e-01</td>\n",
       "      <td>-5.985499e-01</td>\n",
       "      <td>-8.903648e-01</td>\n",
       "      <td>-8.486401e-01</td>\n",
       "      <td>-6.915971e-01</td>\n",
       "      <td>-7.682956e-01</td>\n",
       "      <td>-5.540759e-01</td>\n",
       "      <td>-2.086297e-01</td>\n",
       "      <td>-6.430976e-01</td>\n",
       "      <td>...</td>\n",
       "      <td>-2.283949e-01</td>\n",
       "      <td>-5.423504e-01</td>\n",
       "      <td>-1.618463e-01</td>\n",
       "      <td>-3.545861e-01</td>\n",
       "      <td>-3.171451e-01</td>\n",
       "      <td>-3.269839e-01</td>\n",
       "      <td>-7.083953e-02</td>\n",
       "      <td>-5.295979e-02</td>\n",
       "      <td>5.600000</td>\n",
       "      <td>0.000000</td>\n",
       "    </tr>\n",
       "    <tr>\n",
       "      <th>50%</th>\n",
       "      <td>84692.000000</td>\n",
       "      <td>1.810880e-02</td>\n",
       "      <td>6.548556e-02</td>\n",
       "      <td>1.798463e-01</td>\n",
       "      <td>-1.984653e-02</td>\n",
       "      <td>-5.433583e-02</td>\n",
       "      <td>-2.741871e-01</td>\n",
       "      <td>4.010308e-02</td>\n",
       "      <td>2.235804e-02</td>\n",
       "      <td>-5.142873e-02</td>\n",
       "      <td>...</td>\n",
       "      <td>-2.945017e-02</td>\n",
       "      <td>6.781943e-03</td>\n",
       "      <td>-1.119293e-02</td>\n",
       "      <td>4.097606e-02</td>\n",
       "      <td>1.659350e-02</td>\n",
       "      <td>-5.213911e-02</td>\n",
       "      <td>1.342146e-03</td>\n",
       "      <td>1.124383e-02</td>\n",
       "      <td>22.000000</td>\n",
       "      <td>0.000000</td>\n",
       "    </tr>\n",
       "    <tr>\n",
       "      <th>75%</th>\n",
       "      <td>139320.500000</td>\n",
       "      <td>1.315642e+00</td>\n",
       "      <td>8.037239e-01</td>\n",
       "      <td>1.027196e+00</td>\n",
       "      <td>7.433413e-01</td>\n",
       "      <td>6.119264e-01</td>\n",
       "      <td>3.985649e-01</td>\n",
       "      <td>5.704361e-01</td>\n",
       "      <td>3.273459e-01</td>\n",
       "      <td>5.971390e-01</td>\n",
       "      <td>...</td>\n",
       "      <td>1.863772e-01</td>\n",
       "      <td>5.285536e-01</td>\n",
       "      <td>1.476421e-01</td>\n",
       "      <td>4.395266e-01</td>\n",
       "      <td>3.507156e-01</td>\n",
       "      <td>2.409522e-01</td>\n",
       "      <td>9.104512e-02</td>\n",
       "      <td>7.827995e-02</td>\n",
       "      <td>77.165000</td>\n",
       "      <td>0.000000</td>\n",
       "    </tr>\n",
       "    <tr>\n",
       "      <th>max</th>\n",
       "      <td>172792.000000</td>\n",
       "      <td>2.454930e+00</td>\n",
       "      <td>2.205773e+01</td>\n",
       "      <td>9.382558e+00</td>\n",
       "      <td>1.687534e+01</td>\n",
       "      <td>3.480167e+01</td>\n",
       "      <td>7.330163e+01</td>\n",
       "      <td>1.205895e+02</td>\n",
       "      <td>2.000721e+01</td>\n",
       "      <td>1.559499e+01</td>\n",
       "      <td>...</td>\n",
       "      <td>2.720284e+01</td>\n",
       "      <td>1.050309e+01</td>\n",
       "      <td>2.252841e+01</td>\n",
       "      <td>4.584549e+00</td>\n",
       "      <td>7.519589e+00</td>\n",
       "      <td>3.517346e+00</td>\n",
       "      <td>3.161220e+01</td>\n",
       "      <td>3.384781e+01</td>\n",
       "      <td>25691.160000</td>\n",
       "      <td>1.000000</td>\n",
       "    </tr>\n",
       "  </tbody>\n",
       "</table>\n",
       "<p>8 rows × 31 columns</p>\n",
       "</div>"
      ],
      "text/plain": [
       "                Time            V1            V2            V3            V4  \\\n",
       "count  284807.000000  2.848070e+05  2.848070e+05  2.848070e+05  2.848070e+05   \n",
       "mean    94813.859575  1.758743e-12 -8.252298e-13 -9.636929e-13  8.316157e-13   \n",
       "std     47488.145955  1.958696e+00  1.651309e+00  1.516255e+00  1.415869e+00   \n",
       "min         0.000000 -5.640751e+01 -7.271573e+01 -4.832559e+01 -5.683171e+00   \n",
       "25%     54201.500000 -9.203734e-01 -5.985499e-01 -8.903648e-01 -8.486401e-01   \n",
       "50%     84692.000000  1.810880e-02  6.548556e-02  1.798463e-01 -1.984653e-02   \n",
       "75%    139320.500000  1.315642e+00  8.037239e-01  1.027196e+00  7.433413e-01   \n",
       "max    172792.000000  2.454930e+00  2.205773e+01  9.382558e+00  1.687534e+01   \n",
       "\n",
       "                 V5            V6            V7            V8            V9  \\\n",
       "count  2.848070e+05  2.848070e+05  2.848070e+05  2.848070e+05  2.848070e+05   \n",
       "mean   1.591952e-13  4.247354e-13 -3.050180e-13  8.693344e-14 -1.179712e-12   \n",
       "std    1.380247e+00  1.332271e+00  1.237094e+00  1.194353e+00  1.098632e+00   \n",
       "min   -1.137433e+02 -2.616051e+01 -4.355724e+01 -7.321672e+01 -1.343407e+01   \n",
       "25%   -6.915971e-01 -7.682956e-01 -5.540759e-01 -2.086297e-01 -6.430976e-01   \n",
       "50%   -5.433583e-02 -2.741871e-01  4.010308e-02  2.235804e-02 -5.142873e-02   \n",
       "75%    6.119264e-01  3.985649e-01  5.704361e-01  3.273459e-01  5.971390e-01   \n",
       "max    3.480167e+01  7.330163e+01  1.205895e+02  2.000721e+01  1.559499e+01   \n",
       "\n",
       "       ...           V21           V22           V23           V24  \\\n",
       "count  ...  2.848070e+05  2.848070e+05  2.848070e+05  2.848070e+05   \n",
       "mean   ... -3.406543e-13 -5.713163e-13 -9.725303e-13  1.464139e-12   \n",
       "std    ...  7.345240e-01  7.257016e-01  6.244603e-01  6.056471e-01   \n",
       "min    ... -3.483038e+01 -1.093314e+01 -4.480774e+01 -2.836627e+00   \n",
       "25%    ... -2.283949e-01 -5.423504e-01 -1.618463e-01 -3.545861e-01   \n",
       "50%    ... -2.945017e-02  6.781943e-03 -1.119293e-02  4.097606e-02   \n",
       "75%    ...  1.863772e-01  5.285536e-01  1.476421e-01  4.395266e-01   \n",
       "max    ...  2.720284e+01  1.050309e+01  2.252841e+01  4.584549e+00   \n",
       "\n",
       "                V25           V26           V27           V28         Amount  \\\n",
       "count  2.848070e+05  2.848070e+05  2.848070e+05  2.848070e+05  284807.000000   \n",
       "mean  -6.989087e-13 -5.615260e-13  3.332112e-12 -3.518886e-12      88.349619   \n",
       "std    5.212781e-01  4.822270e-01  4.036325e-01  3.300833e-01     250.120109   \n",
       "min   -1.029540e+01 -2.604551e+00 -2.256568e+01 -1.543008e+01       0.000000   \n",
       "25%   -3.171451e-01 -3.269839e-01 -7.083953e-02 -5.295979e-02       5.600000   \n",
       "50%    1.659350e-02 -5.213911e-02  1.342146e-03  1.124383e-02      22.000000   \n",
       "75%    3.507156e-01  2.409522e-01  9.104512e-02  7.827995e-02      77.165000   \n",
       "max    7.519589e+00  3.517346e+00  3.161220e+01  3.384781e+01   25691.160000   \n",
       "\n",
       "               Class  \n",
       "count  284807.000000  \n",
       "mean        0.001727  \n",
       "std         0.041527  \n",
       "min         0.000000  \n",
       "25%         0.000000  \n",
       "50%         0.000000  \n",
       "75%         0.000000  \n",
       "max         1.000000  \n",
       "\n",
       "[8 rows x 31 columns]"
      ]
     },
     "execution_count": 5,
     "metadata": {},
     "output_type": "execute_result"
    }
   ],
   "source": [
    "#statistical info\n",
    "df.describe()"
   ]
  },
  {
   "cell_type": "code",
   "execution_count": 6,
   "metadata": {
    "colab": {
     "base_uri": "https://localhost:8080/"
    },
    "id": "Q7PImASCg5mT",
    "outputId": "7f4146c8-d408-4e28-a77b-1b230cb12bb1"
   },
   "outputs": [
    {
     "name": "stdout",
     "output_type": "stream",
     "text": [
      "<class 'pandas.core.frame.DataFrame'>\n",
      "RangeIndex: 284807 entries, 0 to 284806\n",
      "Data columns (total 31 columns):\n",
      " #   Column  Non-Null Count   Dtype  \n",
      "---  ------  --------------   -----  \n",
      " 0   Time    284807 non-null  float64\n",
      " 1   V1      284807 non-null  float64\n",
      " 2   V2      284807 non-null  float64\n",
      " 3   V3      284807 non-null  float64\n",
      " 4   V4      284807 non-null  float64\n",
      " 5   V5      284807 non-null  float64\n",
      " 6   V6      284807 non-null  float64\n",
      " 7   V7      284807 non-null  float64\n",
      " 8   V8      284807 non-null  float64\n",
      " 9   V9      284807 non-null  float64\n",
      " 10  V10     284807 non-null  float64\n",
      " 11  V11     284807 non-null  float64\n",
      " 12  V12     284807 non-null  float64\n",
      " 13  V13     284807 non-null  float64\n",
      " 14  V14     284807 non-null  float64\n",
      " 15  V15     284807 non-null  float64\n",
      " 16  V16     284807 non-null  float64\n",
      " 17  V17     284807 non-null  float64\n",
      " 18  V18     284807 non-null  float64\n",
      " 19  V19     284807 non-null  float64\n",
      " 20  V20     284807 non-null  float64\n",
      " 21  V21     284807 non-null  float64\n",
      " 22  V22     284807 non-null  float64\n",
      " 23  V23     284807 non-null  float64\n",
      " 24  V24     284807 non-null  float64\n",
      " 25  V25     284807 non-null  float64\n",
      " 26  V26     284807 non-null  float64\n",
      " 27  V27     284807 non-null  float64\n",
      " 28  V28     284807 non-null  float64\n",
      " 29  Amount  284807 non-null  float64\n",
      " 30  Class   284807 non-null  int64  \n",
      "dtypes: float64(30), int64(1)\n",
      "memory usage: 67.4 MB\n"
     ]
    }
   ],
   "source": [
    "#datatype info\n",
    "df.info()"
   ]
  },
  {
   "cell_type": "markdown",
   "metadata": {
    "id": "p5mUHXP6g5mU"
   },
   "source": [
    "# Preprocessing the Dataset"
   ]
  },
  {
   "cell_type": "code",
   "execution_count": 7,
   "metadata": {
    "colab": {
     "base_uri": "https://localhost:8080/"
    },
    "id": "3r0svgqbg5mU",
    "outputId": "9ea84735-0756-4b6d-f08c-f90308125831"
   },
   "outputs": [
    {
     "data": {
      "text/plain": [
       "Time      0\n",
       "V1        0\n",
       "V2        0\n",
       "V3        0\n",
       "V4        0\n",
       "V5        0\n",
       "V6        0\n",
       "V7        0\n",
       "V8        0\n",
       "V9        0\n",
       "V10       0\n",
       "V11       0\n",
       "V12       0\n",
       "V13       0\n",
       "V14       0\n",
       "V15       0\n",
       "V16       0\n",
       "V17       0\n",
       "V18       0\n",
       "V19       0\n",
       "V20       0\n",
       "V21       0\n",
       "V22       0\n",
       "V23       0\n",
       "V24       0\n",
       "V25       0\n",
       "V26       0\n",
       "V27       0\n",
       "V28       0\n",
       "Amount    0\n",
       "Class     0\n",
       "dtype: int64"
      ]
     },
     "execution_count": 7,
     "metadata": {},
     "output_type": "execute_result"
    }
   ],
   "source": [
    "#check the null values\n",
    "df.isnull().sum()\n"
   ]
  },
  {
   "cell_type": "code",
   "execution_count": 8,
   "metadata": {
    "id": "dEBYMPQTg5mV"
   },
   "outputs": [],
   "source": [
    "#df.dropna()"
   ]
  },
  {
   "cell_type": "code",
   "execution_count": 9,
   "metadata": {
    "id": "ajqpY1TIg5mV"
   },
   "outputs": [],
   "source": [
    "import matplotlib.pyplot as plt"
   ]
  },
  {
   "cell_type": "code",
   "execution_count": 10,
   "metadata": {
    "colab": {
     "base_uri": "https://localhost:8080/",
     "height": 0
    },
    "id": "F5B-AFu0g5mV",
    "outputId": "625e3e57-dbce-467c-d828-095145cefc22"
   },
   "outputs": [
    {
     "data": {
      "image/png": "[encoded data removed]",
      "text/plain": [
       "<Figure size 1440x1440 with 31 Axes>"
      ]
     },
     "metadata": {
      "needs_background": "light"
     },
     "output_type": "display_data"
    }
   ],
   "source": [
    "def draw_histograms(dataframe, features, rows, cols):\n",
    "    fig=plt.figure(figsize=(20,20))\n",
    "    for i, feature in enumerate(features):\n",
    "        ax=fig.add_subplot(rows,cols,i+1)\n",
    "        dataframe[feature].hist(bins=20,ax=ax,facecolor='midnightblue')\n",
    "        ax.set_title(feature+\" Distribution\",color='DarkRed')\n",
    "        ax.set_yscale('log')\n",
    "    fig.tight_layout()  \n",
    "    plt.show()\n",
    "    \n",
    "def draw_roc_curve_RF(model, x_test_roc, y_test_roc, label = None):\n",
    "    y_scores = model.predict_proba(X_test)\n",
    "    fpr, tpr, thresholds = roc_curve(y_test_roc, y_scores[:,1])\n",
    "    plt.figure(figsize=(8, 6)) \n",
    "    plt.plot(fpr, tpr, linewidth=2, label=label)\n",
    "    plt.plot([0, 1], [0, 1], 'k--') \n",
    "    plt.axis([0, 1, 0, 1])                                    \n",
    "    plt.xlabel('False Positive Rate', fontsize=16)\n",
    "    plt.ylabel('True Positive Rate', fontsize=16)    \n",
    "    plt.grid(True)  \n",
    "    \n",
    "\n",
    "\n",
    "draw_histograms(df,df.columns,8,4)"
   ]
  },
  {
   "cell_type": "code",
   "execution_count": 11,
   "metadata": {
    "id": "BS8TKfWRg5mW"
   },
   "outputs": [],
   "source": [
    "#### Independent and Dependent Features\n",
    "X=df.drop(\"Class\",axis=1)\n",
    "y=df.Class"
   ]
  },
  {
   "cell_type": "code",
   "execution_count": 12,
   "metadata": {
    "colab": {
     "base_uri": "https://localhost:8080/",
     "height": 0
    },
    "id": "PNaF62yJg5mW",
    "outputId": "dd474d9c-f210-4658-92f8-3813add67ea9"
   },
   "outputs": [
    {
     "data": {
      "text/plain": [
       "Text(0.5, 1.0, 'Correlation')"
      ]
     },
     "execution_count": 12,
     "metadata": {},
     "output_type": "execute_result"
    },
    {
     "data": {
      "image/png": "[encoded data removed]",
      "text/plain": [
       "<Figure size 842.4x595.44 with 2 Axes>"
      ]
     },
     "metadata": {
      "needs_background": "light"
     },
     "output_type": "display_data"
    }
   ],
   "source": [
    "%matplotlib inline\n",
    "import seaborn as sns\n",
    "a4_dims = (11.7, 8.27)\n",
    "\n",
    "fig, ax = plt.subplots(figsize=a4_dims)\n",
    "sns.heatmap(df.corr())\n",
    "ax.set_title('Correlation')"
   ]
  },
  {
   "cell_type": "code",
   "execution_count": null,
   "metadata": {},
   "outputs": [],
   "source": []
  },
  {
   "cell_type": "markdown",
   "metadata": {
    "id": "kVb7qm0Sg5mX"
   },
   "source": [
    "## Sklearn Library installing"
   ]
  },
  {
   "cell_type": "code",
   "execution_count": 13,
   "metadata": {
    "id": "8QVQFPVIg5mX"
   },
   "outputs": [],
   "source": [
    "#pip install scikit-learn"
   ]
  },
  {
   "cell_type": "markdown",
   "metadata": {
    "id": "Zo8BNd_1FFFm"
   },
   "source": [
    "# Logistic Regression"
   ]
  },
  {
   "cell_type": "code",
   "execution_count": 14,
   "metadata": {
    "id": "qqRp4tyGg5mX"
   },
   "outputs": [],
   "source": [
    "from sklearn.linear_model import LogisticRegression\n",
    "from sklearn.metrics import accuracy_score,confusion_matrix,classification_report, roc_curve, roc_auc_score\n",
    "from sklearn.model_selection import KFold\n",
    "from sklearn.model_selection import cross_val_predict\n",
    "import numpy as np\n",
    "from sklearn.model_selection import GridSearchCV"
   ]
  },
  {
   "cell_type": "code",
   "execution_count": 15,
   "metadata": {
    "id": "yw9Pj8Ihg5mY"
   },
   "outputs": [],
   "source": [
    "def draw_roc_curve(model, x_train_roc, y_train_roc, label = None):\n",
    "    y_scores = cross_val_predict(model, x_train_roc, y_train_roc, cv=3,method=\"decision_function\")\n",
    "    fpr, tpr, thresholds = roc_curve(y_train_roc, y_scores)\n",
    "    plt.figure(figsize=(8, 6)) \n",
    "    plt.plot(fpr, tpr, linewidth=2, label=label)\n",
    "    plt.plot([0, 1], [0, 1], 'k--') \n",
    "    plt.axis([0, 1, 0, 1])                                    \n",
    "    plt.xlabel('False Positive Rate', fontsize=16)\n",
    "    plt.ylabel('True Positive Rate', fontsize=16)    \n",
    "    plt.grid(True)  "
   ]
  },
  {
   "cell_type": "code",
   "execution_count": 16,
   "metadata": {
    "id": "cs8cMUu8g5mY"
   },
   "outputs": [],
   "source": [
    "log_class=LogisticRegression()\n",
    "grid={'C':10.0 **np.arange(-2,3),'penalty':['l1','l2']}\n",
    "cv=KFold(n_splits=5,random_state=None,shuffle=False)"
   ]
  },
  {
   "cell_type": "code",
   "execution_count": 17,
   "metadata": {
    "id": "xGniT6ZLg5mY"
   },
   "outputs": [],
   "source": [
    "from sklearn.model_selection import train_test_split\n",
    "X_train,X_test,y_train,y_test=train_test_split(X.values,y.values,train_size=0.75)\n",
    "#X_train = X_train.dropna()\n",
    "#y_train = y_train.dropna()\n",
    "#X_test = X_test.dropna()\n",
    "#y_test = y_test.dropna()"
   ]
  },
  {
   "cell_type": "code",
   "execution_count": 18,
   "metadata": {
    "colab": {
     "base_uri": "https://localhost:8080/"
    },
    "id": "d0f5zB7pg5mZ",
    "outputId": "a3b67f42-f610-4ba4-ca21-6bf9d76423ab"
   },
   "outputs": [
    {
     "name": "stderr",
     "output_type": "stream",
     "text": [
      "C:\\Users\\ayesh\\AppData\\Roaming\\Python\\Python38\\site-packages\\sklearn\\model_selection\\_search.py:918: UserWarning: One or more of the test scores are non-finite: [       nan 0.82838542        nan 0.83260732        nan 0.8482212\n",
      "        nan 0.8321769         nan 0.83786456]\n",
      "  warnings.warn(\n",
      "C:\\Users\\ayesh\\AppData\\Roaming\\Python\\Python38\\site-packages\\sklearn\\linear_model\\_logistic.py:763: ConvergenceWarning: lbfgs failed to converge (status=1):\n",
      "STOP: TOTAL NO. of ITERATIONS REACHED LIMIT.\n",
      "\n",
      "Increase the number of iterations (max_iter) or scale the data as shown in:\n",
      "    https://scikit-learn.org/stable/modules/preprocessing.html\n",
      "Please also refer to the documentation for alternative solver options:\n",
      "    https://scikit-learn.org/stable/modules/linear_model.html#logistic-regression\n",
      "  n_iter_i = _check_optimize_result(\n"
     ]
    },
    {
     "data": {
      "text/plain": [
       "GridSearchCV(cv=KFold(n_splits=5, random_state=None, shuffle=False),\n",
       "             estimator=LogisticRegression(), n_jobs=-1,\n",
       "             param_grid={'C': array([1.e-02, 1.e-01, 1.e+00, 1.e+01, 1.e+02]),\n",
       "                         'penalty': ['l1', 'l2']},\n",
       "             scoring='f1_macro')"
      ]
     },
     "execution_count": 18,
     "metadata": {},
     "output_type": "execute_result"
    }
   ],
   "source": [
    "clf=GridSearchCV(log_class,grid,cv=cv,n_jobs=-1,scoring='f1_macro')\n",
    "clf.fit(X_train,y_train)"
   ]
  },
  {
   "cell_type": "code",
   "execution_count": 19,
   "metadata": {
    "id": "xqlS-UGGg5mZ"
   },
   "outputs": [],
   "source": [
    "y_pred=clf.predict(X_test)"
   ]
  },
  {
   "cell_type": "code",
   "execution_count": 20,
   "metadata": {
    "id": "WvW3Vsj5g5mZ"
   },
   "outputs": [],
   "source": [
    "import seaborn as sns"
   ]
  },
  {
   "cell_type": "code",
   "execution_count": 21,
   "metadata": {
    "colab": {
     "base_uri": "https://localhost:8080/",
     "height": 0
    },
    "id": "5ozZbrKQg5ma",
    "outputId": "1b86fadd-5308-42f1-d188-21caa72cfd9a"
   },
   "outputs": [
    {
     "data": {
      "image/png": "[encoded data removed]",
      "text/plain": [
       "<Figure size 576x360 with 2 Axes>"
      ]
     },
     "metadata": {
      "needs_background": "light"
     },
     "output_type": "display_data"
    }
   ],
   "source": [
    "# confusion Matrix\n",
    "cm=confusion_matrix(y_test,y_pred)\n",
    "conf_matrix=pd.DataFrame(data=cm,columns=['Predicted:0','Predicted:1'],index=['Actual:0','Actual:1'])\n",
    "plt.figure(figsize = (8,5))\n",
    "sns.heatmap(conf_matrix, annot=True,fmt='d',cmap=\"YlGnBu\");"
   ]
  },
  {
   "cell_type": "code",
   "execution_count": 22,
   "metadata": {
    "colab": {
     "base_uri": "https://localhost:8080/"
    },
    "id": "VMG4XZnQg5ma",
    "outputId": "ef67b56f-8307-4994-d83a-9c678009aff9"
   },
   "outputs": [
    {
     "name": "stdout",
     "output_type": "stream",
     "text": [
      "0.9989607033510295\n"
     ]
    }
   ],
   "source": [
    "print(accuracy_score(y_test,y_pred))"
   ]
  },
  {
   "cell_type": "code",
   "execution_count": 23,
   "metadata": {
    "colab": {
     "base_uri": "https://localhost:8080/"
    },
    "id": "R5zUFOaXg5ma",
    "outputId": "7ec4edc6-d8a4-455a-e0cf-6ae67566c813"
   },
   "outputs": [
    {
     "name": "stdout",
     "output_type": "stream",
     "text": [
      "              precision    recall  f1-score   support\n",
      "\n",
      "           0       1.00      1.00      1.00     71079\n",
      "           1       0.76      0.58      0.66       123\n",
      "\n",
      "    accuracy                           1.00     71202\n",
      "   macro avg       0.88      0.79      0.83     71202\n",
      "weighted avg       1.00      1.00      1.00     71202\n",
      "\n"
     ]
    }
   ],
   "source": [
    "print(classification_report(y_test,y_pred))"
   ]
  },
  {
   "cell_type": "code",
   "execution_count": 24,
   "metadata": {
    "colab": {
     "base_uri": "https://localhost:8080/",
     "height": 0
    },
    "id": "9qAEh87Zg5mb",
    "outputId": "c150b9ab-de18-4b92-e571-618995834401"
   },
   "outputs": [
    {
     "name": "stderr",
     "output_type": "stream",
     "text": [
      "C:\\Users\\ayesh\\AppData\\Roaming\\Python\\Python38\\site-packages\\sklearn\\model_selection\\_search.py:918: UserWarning: One or more of the test scores are non-finite: [       nan 0.827721          nan 0.81788299        nan 0.84351203\n",
      "        nan 0.83593301        nan 0.82122434]\n",
      "  warnings.warn(\n",
      "C:\\Users\\ayesh\\AppData\\Roaming\\Python\\Python38\\site-packages\\sklearn\\linear_model\\_logistic.py:763: ConvergenceWarning: lbfgs failed to converge (status=1):\n",
      "STOP: TOTAL NO. of ITERATIONS REACHED LIMIT.\n",
      "\n",
      "Increase the number of iterations (max_iter) or scale the data as shown in:\n",
      "    https://scikit-learn.org/stable/modules/preprocessing.html\n",
      "Please also refer to the documentation for alternative solver options:\n",
      "    https://scikit-learn.org/stable/modules/linear_model.html#logistic-regression\n",
      "  n_iter_i = _check_optimize_result(\n",
      "C:\\Users\\ayesh\\AppData\\Roaming\\Python\\Python38\\site-packages\\sklearn\\model_selection\\_search.py:918: UserWarning: One or more of the test scores are non-finite: [       nan 0.8260517         nan 0.85058521        nan 0.83760434\n",
      "        nan 0.84311114        nan 0.85556778]\n",
      "  warnings.warn(\n",
      "C:\\Users\\ayesh\\AppData\\Roaming\\Python\\Python38\\site-packages\\sklearn\\linear_model\\_logistic.py:763: ConvergenceWarning: lbfgs failed to converge (status=1):\n",
      "STOP: TOTAL NO. of ITERATIONS REACHED LIMIT.\n",
      "\n",
      "Increase the number of iterations (max_iter) or scale the data as shown in:\n",
      "    https://scikit-learn.org/stable/modules/preprocessing.html\n",
      "Please also refer to the documentation for alternative solver options:\n",
      "    https://scikit-learn.org/stable/modules/linear_model.html#logistic-regression\n",
      "  n_iter_i = _check_optimize_result(\n",
      "C:\\Users\\ayesh\\AppData\\Roaming\\Python\\Python38\\site-packages\\sklearn\\model_selection\\_search.py:918: UserWarning: One or more of the test scores are non-finite: [       nan 0.82513228        nan 0.8567035         nan 0.85035502\n",
      "        nan 0.83785677        nan 0.84914222]\n",
      "  warnings.warn(\n",
      "C:\\Users\\ayesh\\AppData\\Roaming\\Python\\Python38\\site-packages\\sklearn\\linear_model\\_logistic.py:763: ConvergenceWarning: lbfgs failed to converge (status=1):\n",
      "STOP: TOTAL NO. of ITERATIONS REACHED LIMIT.\n",
      "\n",
      "Increase the number of iterations (max_iter) or scale the data as shown in:\n",
      "    https://scikit-learn.org/stable/modules/preprocessing.html\n",
      "Please also refer to the documentation for alternative solver options:\n",
      "    https://scikit-learn.org/stable/modules/linear_model.html#logistic-regression\n",
      "  n_iter_i = _check_optimize_result(\n"
     ]
    },
    {
     "data": {
      "image/png": "[encoded data removed]",
      "text/plain": [
       "<Figure size 576x432 with 1 Axes>"
      ]
     },
     "metadata": {
      "needs_background": "light"
     },
     "output_type": "display_data"
    }
   ],
   "source": [
    "draw_roc_curve(clf, X_train, y_train, label = None)"
   ]
  },
  {
   "cell_type": "code",
   "execution_count": 25,
   "metadata": {
    "colab": {
     "base_uri": "https://localhost:8080/"
    },
    "id": "LupsZoIbg5mb",
    "outputId": "cf5ae1e3-b151-4133-d372-45b072545179"
   },
   "outputs": [
    {
     "data": {
      "text/plain": [
       "0.7046808510638298"
      ]
     },
     "execution_count": 25,
     "metadata": {},
     "output_type": "execute_result"
    }
   ],
   "source": [
    "2*0.69*0.72/(0.72+0.69)"
   ]
  },
  {
   "cell_type": "markdown",
   "metadata": {
    "id": "si7Br6pPg5me"
   },
   "source": [
    "# Logistic Regression with Under Sampling"
   ]
  },
  {
   "cell_type": "code",
   "execution_count": 26,
   "metadata": {
    "colab": {
     "base_uri": "https://localhost:8080/"
    },
    "id": "-xfEQoBQg5me",
    "outputId": "fb27c3af-d18f-4f56-c570-2f65d430ab37"
   },
   "outputs": [],
   "source": [
    "from imblearn.under_sampling import RandomUnderSampler\n",
    "\n",
    "u_sample_lr = RandomUnderSampler(sampling_strategy=0.7)\n",
    "X_train_under_lr,y_train_under_lr = u_sample_lr.fit_resample(X_train , y_train)"
   ]
  },
  {
   "cell_type": "code",
   "execution_count": 27,
   "metadata": {
    "colab": {
     "base_uri": "https://localhost:8080/"
    },
    "id": "B98ZO-wsg5mf",
    "outputId": "21fa29dc-ad8e-4e11-9093-07383dcaa565"
   },
   "outputs": [
    {
     "name": "stderr",
     "output_type": "stream",
     "text": [
      "C:\\Users\\ayesh\\AppData\\Roaming\\Python\\Python38\\site-packages\\sklearn\\model_selection\\_search.py:918: UserWarning: One or more of the test scores are non-finite: [       nan 0.54503122        nan 0.53932377        nan 0.53329631\n",
      "        nan 0.5402206         nan 0.54051368]\n",
      "  warnings.warn(\n"
     ]
    },
    {
     "data": {
      "text/plain": [
       "GridSearchCV(cv=KFold(n_splits=5, random_state=None, shuffle=False),\n",
       "             estimator=LogisticRegression(), n_jobs=-1,\n",
       "             param_grid={'C': array([1.e-02, 1.e-01, 1.e+00, 1.e+01, 1.e+02]),\n",
       "                         'penalty': ['l1', 'l2']},\n",
       "             scoring='f1_macro')"
      ]
     },
     "execution_count": 27,
     "metadata": {},
     "output_type": "execute_result"
    }
   ],
   "source": [
    "clf=GridSearchCV(log_class,grid,cv=cv,n_jobs=-1,scoring='f1_macro')\n",
    "clf.fit(X_train_under_lr,y_train_under_lr)"
   ]
  },
  {
   "cell_type": "code",
   "execution_count": 28,
   "metadata": {
    "id": "7BEe6vLsg5mf"
   },
   "outputs": [],
   "source": [
    "y_pred=clf.predict(X_test)"
   ]
  },
  {
   "cell_type": "code",
   "execution_count": 29,
   "metadata": {
    "colab": {
     "base_uri": "https://localhost:8080/",
     "height": 0
    },
    "id": "kx1V8HQCg5mg",
    "outputId": "5dbe7838-7a28-472d-e2ea-c0a23671ac73"
   },
   "outputs": [
    {
     "data": {
      "image/png": "[encoded data removed]",
      "text/plain": [
       "<Figure size 576x360 with 2 Axes>"
      ]
     },
     "metadata": {
      "needs_background": "light"
     },
     "output_type": "display_data"
    }
   ],
   "source": [
    "cm=confusion_matrix(y_test,y_pred)\n",
    "conf_matrix=pd.DataFrame(data=cm,columns=['Predicted:0','Predicted:1'],index=['Actual:0','Actual:1'])\n",
    "plt.figure(figsize = (8,5))\n",
    "sns.heatmap(conf_matrix, annot=True,fmt='d',cmap=\"YlGnBu\");"
   ]
  },
  {
   "cell_type": "code",
   "execution_count": 30,
   "metadata": {
    "colab": {
     "base_uri": "https://localhost:8080/"
    },
    "id": "g4jW9WnHg5mh",
    "outputId": "2fb0215a-e1d2-4639-81c3-f32f63bffcaf"
   },
   "outputs": [
    {
     "name": "stdout",
     "output_type": "stream",
     "text": [
      "0.9749164349316031\n"
     ]
    }
   ],
   "source": [
    "print(accuracy_score(y_test,y_pred))"
   ]
  },
  {
   "cell_type": "code",
   "execution_count": 31,
   "metadata": {
    "colab": {
     "base_uri": "https://localhost:8080/"
    },
    "id": "fEPskiQrg5mh",
    "outputId": "f308d84b-c98c-45dd-ff3a-ae310f4f71f5"
   },
   "outputs": [
    {
     "name": "stdout",
     "output_type": "stream",
     "text": [
      "              precision    recall  f1-score   support\n",
      "\n",
      "           0       1.00      0.98      0.99     71079\n",
      "           1       0.06      0.91      0.11       123\n",
      "\n",
      "    accuracy                           0.97     71202\n",
      "   macro avg       0.53      0.94      0.55     71202\n",
      "weighted avg       1.00      0.97      0.99     71202\n",
      "\n"
     ]
    }
   ],
   "source": [
    "print(classification_report(y_test,y_pred))"
   ]
  },
  {
   "cell_type": "code",
   "execution_count": 32,
   "metadata": {
    "colab": {
     "base_uri": "https://localhost:8080/",
     "height": 0
    },
    "id": "3uYr3HSug5mi",
    "outputId": "b6772980-2a95-4490-a8f9-3930c4817d08"
   },
   "outputs": [
    {
     "name": "stderr",
     "output_type": "stream",
     "text": [
      "C:\\Users\\ayesh\\AppData\\Roaming\\Python\\Python38\\site-packages\\sklearn\\model_selection\\_search.py:918: UserWarning: One or more of the test scores are non-finite: [       nan 0.55892569        nan 0.5449818         nan 0.5387668\n",
      "        nan 0.53790127        nan 0.5441498 ]\n",
      "  warnings.warn(\n",
      "C:\\Users\\ayesh\\AppData\\Roaming\\Python\\Python38\\site-packages\\sklearn\\model_selection\\_search.py:918: UserWarning: One or more of the test scores are non-finite: [       nan 0.65157984        nan 0.54536458        nan 0.53840681\n",
      "        nan 0.55832259        nan 0.55697333]\n",
      "  warnings.warn(\n",
      "C:\\Users\\ayesh\\AppData\\Roaming\\Python\\Python38\\site-packages\\sklearn\\model_selection\\_search.py:918: UserWarning: One or more of the test scores are non-finite: [       nan 0.55165173        nan 0.54967501        nan 0.5476473\n",
      "        nan 0.54999093        nan 0.5482072 ]\n",
      "  warnings.warn(\n"
     ]
    },
    {
     "data": {
      "image/png": "[encoded data removed]",
      "text/plain": [
       "<Figure size 576x432 with 1 Axes>"
      ]
     },
     "metadata": {
      "needs_background": "light"
     },
     "output_type": "display_data"
    }
   ],
   "source": [
    "draw_roc_curve(clf, X_train_under_lr, y_train_under_lr, label = None)"
   ]
  },
  {
   "cell_type": "markdown",
   "metadata": {
    "id": "FhrM874Fg5mj"
   },
   "source": [
    "# Logistic Regression with Over Sampling"
   ]
  },
  {
   "cell_type": "code",
   "execution_count": 33,
   "metadata": {
    "colab": {
     "base_uri": "https://localhost:8080/"
    },
    "id": "lnWzDmWag5mk",
    "outputId": "b9a0caac-48bc-438e-e41c-b0d8f85e3a53"
   },
   "outputs": [],
   "source": [
    "from imblearn.over_sampling import RandomOverSampler\n",
    "\n",
    "o_sample_lr = RandomOverSampler(sampling_strategy=0.8)\n",
    "X_train_over_lr,y_train_over_lr = o_sample_lr.fit_resample(X_train , y_train)"
   ]
  },
  {
   "cell_type": "code",
   "execution_count": 34,
   "metadata": {
    "colab": {
     "base_uri": "https://localhost:8080/"
    },
    "id": "I9s6Mxaxg5mk",
    "outputId": "1626e59d-82c3-47a7-ab7a-2974a261b604"
   },
   "outputs": [
    {
     "name": "stderr",
     "output_type": "stream",
     "text": [
      "C:\\Users\\ayesh\\AppData\\Roaming\\Python\\Python38\\site-packages\\sklearn\\model_selection\\_search.py:918: UserWarning: One or more of the test scores are non-finite: [       nan 0.57702621        nan 0.57573718        nan 0.57632119\n",
      "        nan 0.57632119        nan 0.57553908]\n",
      "  warnings.warn(\n",
      "C:\\Users\\ayesh\\AppData\\Roaming\\Python\\Python38\\site-packages\\sklearn\\linear_model\\_logistic.py:763: ConvergenceWarning: lbfgs failed to converge (status=1):\n",
      "STOP: TOTAL NO. of ITERATIONS REACHED LIMIT.\n",
      "\n",
      "Increase the number of iterations (max_iter) or scale the data as shown in:\n",
      "    https://scikit-learn.org/stable/modules/preprocessing.html\n",
      "Please also refer to the documentation for alternative solver options:\n",
      "    https://scikit-learn.org/stable/modules/linear_model.html#logistic-regression\n",
      "  n_iter_i = _check_optimize_result(\n"
     ]
    },
    {
     "data": {
      "text/plain": [
       "GridSearchCV(cv=KFold(n_splits=5, random_state=None, shuffle=False),\n",
       "             estimator=LogisticRegression(), n_jobs=-1,\n",
       "             param_grid={'C': array([1.e-02, 1.e-01, 1.e+00, 1.e+01, 1.e+02]),\n",
       "                         'penalty': ['l1', 'l2']},\n",
       "             scoring='f1_macro')"
      ]
     },
     "execution_count": 34,
     "metadata": {},
     "output_type": "execute_result"
    }
   ],
   "source": [
    "clf=GridSearchCV(log_class,grid,cv=cv,n_jobs=-1,scoring='f1_macro')\n",
    "clf.fit(X_train_over_lr,y_train_over_lr)"
   ]
  },
  {
   "cell_type": "code",
   "execution_count": 35,
   "metadata": {
    "id": "oZMRBfz9g5mk"
   },
   "outputs": [],
   "source": [
    "y_pred=clf.predict(X_test)"
   ]
  },
  {
   "cell_type": "code",
   "execution_count": 36,
   "metadata": {
    "colab": {
     "base_uri": "https://localhost:8080/",
     "height": 0
    },
    "id": "a1Zsy20wg5mk",
    "outputId": "8c831fba-3cf3-4487-a3a8-3ee7d8852355"
   },
   "outputs": [
    {
     "data": {
      "image/png": "[encoded data removed]",
      "text/plain": [
       "<Figure size 576x360 with 2 Axes>"
      ]
     },
     "metadata": {
      "needs_background": "light"
     },
     "output_type": "display_data"
    }
   ],
   "source": [
    "cm=confusion_matrix(y_test,y_pred)\n",
    "conf_matrix=pd.DataFrame(data=cm,columns=['Predicted:0','Predicted:1'],index=['Actual:0','Actual:1'])\n",
    "plt.figure(figsize = (8,5))\n",
    "sns.heatmap(conf_matrix, annot=True,fmt='d',cmap=\"YlGnBu\");"
   ]
  },
  {
   "cell_type": "code",
   "execution_count": 37,
   "metadata": {
    "colab": {
     "base_uri": "https://localhost:8080/"
    },
    "id": "UatUizoAg5ml",
    "outputId": "68cf867a-ce81-4b18-df79-f2dfd60f6407"
   },
   "outputs": [
    {
     "name": "stdout",
     "output_type": "stream",
     "text": [
      "0.9693688379539901\n"
     ]
    }
   ],
   "source": [
    "print(accuracy_score(y_test,y_pred))"
   ]
  },
  {
   "cell_type": "code",
   "execution_count": 38,
   "metadata": {
    "colab": {
     "base_uri": "https://localhost:8080/"
    },
    "id": "9nfFZaLmg5ml",
    "outputId": "5e73c780-4b4e-4930-dcbf-11733e2117d7"
   },
   "outputs": [
    {
     "name": "stdout",
     "output_type": "stream",
     "text": [
      "              precision    recall  f1-score   support\n",
      "\n",
      "           0       1.00      0.97      0.98     71079\n",
      "           1       0.05      0.93      0.10       123\n",
      "\n",
      "    accuracy                           0.97     71202\n",
      "   macro avg       0.53      0.95      0.54     71202\n",
      "weighted avg       1.00      0.97      0.98     71202\n",
      "\n"
     ]
    }
   ],
   "source": [
    "print(classification_report(y_test,y_pred))"
   ]
  },
  {
   "cell_type": "code",
   "execution_count": 39,
   "metadata": {
    "colab": {
     "base_uri": "https://localhost:8080/",
     "height": 0
    },
    "id": "taKU60R8g5ml",
    "outputId": "c97bc837-5043-4b63-e1d3-1e2c0237f3d9"
   },
   "outputs": [
    {
     "name": "stderr",
     "output_type": "stream",
     "text": [
      "C:\\Users\\ayesh\\AppData\\Roaming\\Python\\Python38\\site-packages\\sklearn\\model_selection\\_search.py:918: UserWarning: One or more of the test scores are non-finite: [       nan 0.56568           nan 0.56520201        nan 0.565055\n",
      "        nan 0.56457933        nan 0.56472432]\n",
      "  warnings.warn(\n",
      "C:\\Users\\ayesh\\AppData\\Roaming\\Python\\Python38\\site-packages\\sklearn\\model_selection\\_search.py:918: UserWarning: One or more of the test scores are non-finite: [       nan 0.58808524        nan 0.58161014        nan 0.58583188\n",
      "        nan 0.58651391        nan 0.58565936]\n",
      "  warnings.warn(\n",
      "C:\\Users\\ayesh\\AppData\\Roaming\\Python\\Python38\\site-packages\\sklearn\\model_selection\\_search.py:918: UserWarning: One or more of the test scores are non-finite: [       nan 0.5799046         nan 0.57873836        nan 0.57726566\n",
      "        nan 0.57803746        nan 0.57879207]\n",
      "  warnings.warn(\n"
     ]
    },
    {
     "data": {
      "image/png": "[encoded data removed]",
      "text/plain": [
       "<Figure size 576x432 with 1 Axes>"
      ]
     },
     "metadata": {
      "needs_background": "light"
     },
     "output_type": "display_data"
    }
   ],
   "source": [
    "draw_roc_curve(clf, X_train_over_lr, y_train_over_lr, label = None)"
   ]
  },
  {
   "cell_type": "code",
   "execution_count": null,
   "metadata": {
    "id": "_eCThPmiCU-D"
   },
   "outputs": [],
   "source": []
  },
  {
   "cell_type": "code",
   "execution_count": null,
   "metadata": {
    "id": "KlYA7exCD157"
   },
   "outputs": [],
   "source": []
  },
  {
   "cell_type": "markdown",
   "metadata": {
    "id": "f74jPJdsEMJd"
   },
   "source": [
    "# Random Forest Classifier :"
   ]
  },
  {
   "cell_type": "code",
   "execution_count": 40,
   "metadata": {
    "colab": {
     "base_uri": "https://localhost:8080/"
    },
    "id": "kycXk7LsEPQY",
    "outputId": "ed6bde5c-038a-48da-f682-dc17b3eb81c2"
   },
   "outputs": [
    {
     "data": {
      "text/plain": [
       "RandomForestClassifier(max_depth=10, min_samples_split=5, n_estimators=400)"
      ]
     },
     "execution_count": 40,
     "metadata": {},
     "output_type": "execute_result"
    }
   ],
   "source": [
    "from sklearn.ensemble import RandomForestClassifier\n",
    "classifier=RandomForestClassifier(n_estimators=400, max_features='auto',criterion='gini', max_depth=10, min_samples_split=5, min_samples_leaf=1)\n",
    "classifier.fit(X_train,y_train)"
   ]
  },
  {
   "cell_type": "code",
   "execution_count": 41,
   "metadata": {
    "id": "WlPJ60yzEPQZ"
   },
   "outputs": [],
   "source": [
    "y_pred=classifier.predict(X_test)"
   ]
  },
  {
   "cell_type": "code",
   "execution_count": 42,
   "metadata": {
    "colab": {
     "base_uri": "https://localhost:8080/",
     "height": 0
    },
    "id": "Oqnp5RjXEPQZ",
    "outputId": "c30268d1-fcce-4b59-f1b2-1c4318fe702b"
   },
   "outputs": [
    {
     "data": {
      "image/png": "[encoded data removed]",
      "text/plain": [
       "<Figure size 576x360 with 2 Axes>"
      ]
     },
     "metadata": {
      "needs_background": "light"
     },
     "output_type": "display_data"
    }
   ],
   "source": [
    "# confusion Matrix\n",
    "cm=confusion_matrix(y_test,y_pred)\n",
    "conf_matrix=pd.DataFrame(data=cm,columns=['Predicted:0','Predicted:1'],index=['Actual:0','Actual:1'])\n",
    "plt.figure(figsize = (8,5))\n",
    "sns.heatmap(conf_matrix, annot=True,fmt='d',cmap=\"YlGnBu\");"
   ]
  },
  {
   "cell_type": "code",
   "execution_count": 43,
   "metadata": {
    "colab": {
     "base_uri": "https://localhost:8080/"
    },
    "id": "w4RM3RwBEPQa",
    "outputId": "b6a2c46e-ddef-40e3-a741-7a6759dbf597"
   },
   "outputs": [
    {
     "name": "stdout",
     "output_type": "stream",
     "text": [
      "0.999592708069998\n"
     ]
    }
   ],
   "source": [
    "print(accuracy_score(y_test,y_pred))"
   ]
  },
  {
   "cell_type": "code",
   "execution_count": 44,
   "metadata": {
    "colab": {
     "base_uri": "https://localhost:8080/"
    },
    "id": "jEg8l4GYEPQa",
    "outputId": "103b0df0-5020-4f8c-a45c-d0b9b787b55a"
   },
   "outputs": [
    {
     "name": "stdout",
     "output_type": "stream",
     "text": [
      "              precision    recall  f1-score   support\n",
      "\n",
      "           0       1.00      1.00      1.00     71079\n",
      "           1       0.96      0.80      0.87       123\n",
      "\n",
      "    accuracy                           1.00     71202\n",
      "   macro avg       0.98      0.90      0.94     71202\n",
      "weighted avg       1.00      1.00      1.00     71202\n",
      "\n"
     ]
    }
   ],
   "source": [
    "print(classification_report(y_test,y_pred))"
   ]
  },
  {
   "cell_type": "code",
   "execution_count": 45,
   "metadata": {
    "colab": {
     "base_uri": "https://localhost:8080/",
     "height": 0
    },
    "id": "JPJy5sAJEPQa",
    "outputId": "47050495-f152-476a-ff9c-f8e55a19c24b"
   },
   "outputs": [
    {
     "data": {
      "image/png": "[encoded data removed]",
      "text/plain": [
       "<Figure size 576x432 with 1 Axes>"
      ]
     },
     "metadata": {
      "needs_background": "light"
     },
     "output_type": "display_data"
    }
   ],
   "source": [
    "draw_roc_curve_RF(classifier, X_test, y_test, label = None)"
   ]
  },
  {
   "cell_type": "markdown",
   "metadata": {
    "id": "u3uBB-7Zg5ml"
   },
   "source": [
    "# Random Forest with Under Sampling"
   ]
  },
  {
   "cell_type": "markdown",
   "metadata": {
    "id": "mlnDhWxng5mm"
   },
   "source": [
    "Let's find out the best strategy for sampling"
   ]
  },
  {
   "cell_type": "code",
   "execution_count": 46,
   "metadata": {
    "colab": {
     "base_uri": "https://localhost:8080/"
    },
    "id": "H6TX0Etrg5mm",
    "outputId": "0a1a8a7f-0c7c-4b30-eb6b-02f4709d5126"
   },
   "outputs": [
    {
     "name": "stdout",
     "output_type": "stream",
     "text": [
      "738 369\n",
      "K= 0.5\n",
      "\n",
      "CONFUSION METRICS\n",
      " [[70349   730]\n",
      " [   13   110]]\n",
      "\n",
      "CLASSIFICATION REPORT\n",
      "               precision    recall  f1-score   support\n",
      "\n",
      "           0       1.00      0.99      0.99     71079\n",
      "           1       0.13      0.89      0.23       123\n",
      "\n",
      "    accuracy                           0.99     71202\n",
      "   macro avg       0.57      0.94      0.61     71202\n",
      "weighted avg       1.00      0.99      0.99     71202\n",
      "\n",
      "3.337026834487915\n",
      "----------------------------------------------------------------------------------------------------\n",
      "615 369\n",
      "K= 0.6\n",
      "\n",
      "CONFUSION METRICS\n",
      " [[70287   792]\n",
      " [   13   110]]\n",
      "\n",
      "CLASSIFICATION REPORT\n",
      "               precision    recall  f1-score   support\n",
      "\n",
      "           0       1.00      0.99      0.99     71079\n",
      "           1       0.12      0.89      0.21       123\n",
      "\n",
      "    accuracy                           0.99     71202\n",
      "   macro avg       0.56      0.94      0.60     71202\n",
      "weighted avg       1.00      0.99      0.99     71202\n",
      "\n",
      "6.610699653625488\n",
      "----------------------------------------------------------------------------------------------------\n",
      "527 369\n",
      "K= 0.7\n",
      "\n",
      "CONFUSION METRICS\n",
      " [[70284   795]\n",
      " [   11   112]]\n",
      "\n",
      "CLASSIFICATION REPORT\n",
      "               precision    recall  f1-score   support\n",
      "\n",
      "           0       1.00      0.99      0.99     71079\n",
      "           1       0.12      0.91      0.22       123\n",
      "\n",
      "    accuracy                           0.99     71202\n",
      "   macro avg       0.56      0.95      0.61     71202\n",
      "weighted avg       1.00      0.99      0.99     71202\n",
      "\n",
      "9.646450519561768\n",
      "----------------------------------------------------------------------------------------------------\n",
      "461 369\n",
      "K= 0.7999999999999999\n",
      "\n",
      "CONFUSION METRICS\n",
      " [[69828  1251]\n",
      " [   11   112]]\n",
      "\n",
      "CLASSIFICATION REPORT\n",
      "               precision    recall  f1-score   support\n",
      "\n",
      "           0       1.00      0.98      0.99     71079\n",
      "           1       0.08      0.91      0.15       123\n",
      "\n",
      "    accuracy                           0.98     71202\n",
      "   macro avg       0.54      0.95      0.57     71202\n",
      "weighted avg       1.00      0.98      0.99     71202\n",
      "\n",
      "12.71483039855957\n",
      "----------------------------------------------------------------------------------------------------\n",
      "410 369\n",
      "K= 0.8999999999999999\n",
      "\n",
      "CONFUSION METRICS\n",
      " [[69333  1746]\n",
      " [    9   114]]\n",
      "\n",
      "CLASSIFICATION REPORT\n",
      "               precision    recall  f1-score   support\n",
      "\n",
      "           0       1.00      0.98      0.99     71079\n",
      "           1       0.06      0.93      0.11       123\n",
      "\n",
      "    accuracy                           0.98     71202\n",
      "   macro avg       0.53      0.95      0.55     71202\n",
      "weighted avg       1.00      0.98      0.99     71202\n",
      "\n",
      "15.69493579864502\n",
      "----------------------------------------------------------------------------------------------------\n",
      "369 369\n",
      "K= 0.9999999999999999\n",
      "\n",
      "CONFUSION METRICS\n",
      " [[69502  1577]\n",
      " [    8   115]]\n",
      "\n",
      "CLASSIFICATION REPORT\n",
      "               precision    recall  f1-score   support\n",
      "\n",
      "           0       1.00      0.98      0.99     71079\n",
      "           1       0.07      0.93      0.13       123\n",
      "\n",
      "    accuracy                           0.98     71202\n",
      "   macro avg       0.53      0.96      0.56     71202\n",
      "weighted avg       1.00      0.98      0.99     71202\n",
      "\n",
      "19.059723615646362\n",
      "----------------------------------------------------------------------------------------------------\n"
     ]
    }
   ],
   "source": [
    "import time\n",
    "t0=time.time()\n",
    "k=0.5\n",
    "while k<=1:\n",
    "    u_sample = RandomUnderSampler(sampling_strategy=k)\n",
    "    X_train_under,y_train_under = u_sample.fit_resample(X_train,y_train)\n",
    "    c0=X_train_under[y_train_under==0]\n",
    "    c1=X_train_under[y_train_under==1]\n",
    "    print(len(c0),len(c1))\n",
    "    classifier=RandomForestClassifier(n_estimators=400, max_features='auto',criterion='gini', max_depth=10, min_samples_split=5, min_samples_leaf=1)\n",
    "    classifier.fit(X_train_under,y_train_under)\n",
    "    #adap=RandomForestClassifier(n_estimators=10)\n",
    "    #adap=AdaBoostClassifier(base_estimator=clfsm,n_estimators=10)\n",
    "    #adap.fit(Xtrsm,ytrsm)\n",
    "    pred=classifier.predict(X_test)\n",
    "    print(\"K=\",k)\n",
    "    print(\"\\nCONFUSION METRICS\\n\",confusion_matrix(y_test,pred))\n",
    "    print(\"\\nCLASSIFICATION REPORT\\n\",classification_report(y_test,pred))\n",
    "    tn=time.time()-t0\n",
    "    print(tn)\n",
    "    print(\"-\"*100)\n",
    "    k=k+0.1"
   ]
  },
  {
   "cell_type": "markdown",
   "metadata": {
    "id": "RYZshA-Mg5mm"
   },
   "source": [
    "So k = 0.7 is the best strategy because we want to keep the false negative as minimum as possible."
   ]
  },
  {
   "cell_type": "code",
   "execution_count": 47,
   "metadata": {
    "colab": {
     "base_uri": "https://localhost:8080/"
    },
    "id": "VBzZP-BFg5mm",
    "outputId": "150c6337-68ab-430b-eb9d-8277969992ef"
   },
   "outputs": [
    {
     "data": {
      "text/plain": [
       "RandomForestClassifier(max_depth=10, min_samples_split=5, n_estimators=400)"
      ]
     },
     "execution_count": 47,
     "metadata": {},
     "output_type": "execute_result"
    }
   ],
   "source": [
    "u_sample_rf = RandomUnderSampler(sampling_strategy=0.7)\n",
    "X_train_under_rf,y_train_under_rf = u_sample_rf.fit_resample(X_train,y_train)\n",
    "    \n",
    "classifier=RandomForestClassifier(n_estimators=400, max_features='auto',criterion='gini', max_depth=10, min_samples_split=5, min_samples_leaf=1)\n",
    "classifier.fit(X_train_under_rf,y_train_under_rf)"
   ]
  },
  {
   "cell_type": "code",
   "execution_count": 48,
   "metadata": {
    "id": "t0VOJPxyg5mn"
   },
   "outputs": [],
   "source": [
    "y_pred=classifier.predict(X_test)"
   ]
  },
  {
   "cell_type": "code",
   "execution_count": 49,
   "metadata": {
    "colab": {
     "base_uri": "https://localhost:8080/",
     "height": 322
    },
    "id": "l5KPwBEIg5mn",
    "outputId": "f433b385-984d-42ee-e60c-8b430ccf5785"
   },
   "outputs": [
    {
     "data": {
      "image/png": "[encoded data removed]",
      "text/plain": [
       "<Figure size 576x360 with 2 Axes>"
      ]
     },
     "metadata": {
      "needs_background": "light"
     },
     "output_type": "display_data"
    }
   ],
   "source": [
    "cm=confusion_matrix(y_test,y_pred)\n",
    "conf_matrix=pd.DataFrame(data=cm,columns=['Predicted:0','Predicted:1'],index=['Actual:0','Actual:1'])\n",
    "plt.figure(figsize = (8,5))\n",
    "sns.heatmap(conf_matrix, annot=True,fmt='d',cmap=\"YlGnBu\");"
   ]
  },
  {
   "cell_type": "code",
   "execution_count": 50,
   "metadata": {
    "colab": {
     "base_uri": "https://localhost:8080/"
    },
    "id": "JUNYVEbjg5mn",
    "outputId": "02609252-44ec-41d4-e7bd-e47f8edf40bc"
   },
   "outputs": [
    {
     "name": "stdout",
     "output_type": "stream",
     "text": [
      "0.9843543720682003\n"
     ]
    }
   ],
   "source": [
    "print(accuracy_score(y_test,y_pred))"
   ]
  },
  {
   "cell_type": "code",
   "execution_count": 51,
   "metadata": {
    "colab": {
     "base_uri": "https://localhost:8080/"
    },
    "id": "VrLFtS0Zg5mn",
    "outputId": "971efa4d-7d95-48c2-8c27-f9617f4416d0"
   },
   "outputs": [
    {
     "name": "stdout",
     "output_type": "stream",
     "text": [
      "              precision    recall  f1-score   support\n",
      "\n",
      "           0       1.00      0.98      0.99     71079\n",
      "           1       0.09      0.91      0.17       123\n",
      "\n",
      "    accuracy                           0.98     71202\n",
      "   macro avg       0.55      0.95      0.58     71202\n",
      "weighted avg       1.00      0.98      0.99     71202\n",
      "\n"
     ]
    }
   ],
   "source": [
    "print(classification_report(y_test,y_pred))"
   ]
  },
  {
   "cell_type": "code",
   "execution_count": 52,
   "metadata": {
    "colab": {
     "base_uri": "https://localhost:8080/",
     "height": 397
    },
    "id": "wt7__gu-g5mo",
    "outputId": "133e0169-f686-4f44-839e-03a7d6ba0d3f"
   },
   "outputs": [
    {
     "data": {
      "image/png": "[encoded data removed]",
      "text/plain": [
       "<Figure size 576x432 with 1 Axes>"
      ]
     },
     "metadata": {
      "needs_background": "light"
     },
     "output_type": "display_data"
    }
   ],
   "source": [
    "draw_roc_curve_RF(classifier, X_test, y_test, label = None)"
   ]
  },
  {
   "cell_type": "code",
   "execution_count": null,
   "metadata": {
    "id": "oylQKgPgDTaw"
   },
   "outputs": [],
   "source": []
  },
  {
   "cell_type": "markdown",
   "metadata": {
    "id": "vnUPuWnGg5mo"
   },
   "source": [
    "# Random Forest with SMOTE"
   ]
  },
  {
   "cell_type": "code",
   "execution_count": 53,
   "metadata": {
    "id": "m3phWTo6g5mo"
   },
   "outputs": [],
   "source": [
    "from imblearn.over_sampling import SMOTE\n",
    "import time"
   ]
  },
  {
   "cell_type": "code",
   "execution_count": null,
   "metadata": {
    "colab": {
     "base_uri": "https://localhost:8080/"
    },
    "id": "wY6HeVUgg5mo",
    "outputId": "759146e2-2d0a-4b1f-aa58-9909cb2087ab"
   },
   "outputs": [
    {
     "name": "stdout",
     "output_type": "stream",
     "text": [
      "213236 106618\n"
     ]
    }
   ],
   "source": [
    "t0=time.time()\n",
    "k=0.5\n",
    "while k<=1:\n",
    "    o_sample = SMOTE(sampling_strategy=k)\n",
    "    X_train_over,y_train_over = o_sample.fit_resample(X_train,y_train)\n",
    "    c0=X_train_over[y_train_over==0]\n",
    "    c1=X_train_over[y_train_over==1]\n",
    "    print(len(c0),len(c1))\n",
    "    classifier=RandomForestClassifier(n_estimators=800, max_features='auto',criterion='gini', max_depth=10, min_samples_split=5, min_samples_leaf=1)\n",
    "    classifier.fit(X_train_over,y_train_over)\n",
    "    #adap=RandomForestClassifier(n_estimators=10)\n",
    "    #adap=AdaBoostClassifier(base_estimator=clfsm,n_estimators=10)\n",
    "    #adap.fit(Xtrsm,ytrsm)\n",
    "    pred=classifier.predict(X_test)\n",
    "    print(\"K=\",k)\n",
    "    print(\"\\nCONFUSION METRICS\\n\",confusion_matrix(y_test,pred))\n",
    "    print(\"\\nCLASSIFICATION REPORT\\n\",classification_report(y_test,pred))\n",
    "    tn=time.time()-t0\n",
    "    print(tn)\n",
    "    print(\"-\"*100)\n",
    "    k=k+0.1"
   ]
  },
  {
   "cell_type": "markdown",
   "metadata": {
    "id": "rdU4OUMHg5mp"
   },
   "source": [
    "Here the best strategy is k = 0.79"
   ]
  },
  {
   "cell_type": "code",
   "execution_count": null,
   "metadata": {
    "colab": {
     "base_uri": "https://localhost:8080/"
    },
    "id": "pOMcyYg3g5mp",
    "outputId": "246cd7e6-fef1-4b4b-8f9c-463ebb05d24d"
   },
   "outputs": [],
   "source": [
    "o_sample_rf = SMOTE(sampling_strategy=0.79, random_state=4002)\n",
    "X_train_over_rf,y_train_over_rf = o_sample_rf.fit_resample(X_train,y_train)\n",
    "    \n",
    "classifier=RandomForestClassifier(n_estimators=800, max_features='auto',criterion='gini', max_depth=10, min_samples_split=5, min_samples_leaf=1)\n",
    "classifier.fit(X_train_over_rf,y_train_over_rf)"
   ]
  },
  {
   "cell_type": "code",
   "execution_count": null,
   "metadata": {
    "id": "Yfa0kqf3g5mq"
   },
   "outputs": [],
   "source": [
    "y_pred=classifier.predict(X_test)"
   ]
  },
  {
   "cell_type": "code",
   "execution_count": null,
   "metadata": {
    "colab": {
     "base_uri": "https://localhost:8080/",
     "height": 320
    },
    "id": "Yiq2OOnBg5mq",
    "outputId": "1a5e78ec-fda6-491e-fbe4-df46a7722c1c"
   },
   "outputs": [],
   "source": [
    "cm=confusion_matrix(y_test,y_pred)\n",
    "conf_matrix=pd.DataFrame(data=cm,columns=['Predicted:0','Predicted:1'],index=['Actual:0','Actual:1'])\n",
    "plt.figure(figsize = (8,5))\n",
    "sns.heatmap(conf_matrix, annot=True,fmt='d',cmap=\"YlGnBu\");"
   ]
  },
  {
   "cell_type": "code",
   "execution_count": null,
   "metadata": {
    "colab": {
     "base_uri": "https://localhost:8080/"
    },
    "id": "KsUeWl26g5mq",
    "outputId": "b1a5b66f-e6e0-483b-c72c-8ad404b6b452"
   },
   "outputs": [],
   "source": [
    "print(accuracy_score(y_test,y_pred))"
   ]
  },
  {
   "cell_type": "code",
   "execution_count": null,
   "metadata": {
    "colab": {
     "base_uri": "https://localhost:8080/"
    },
    "id": "ENNlJbXgg5mq",
    "outputId": "93338259-2c53-42db-a868-86c1dabfc6f4"
   },
   "outputs": [],
   "source": [
    "print(classification_report(y_test,y_pred))"
   ]
  },
  {
   "cell_type": "code",
   "execution_count": null,
   "metadata": {
    "colab": {
     "base_uri": "https://localhost:8080/",
     "height": 397
    },
    "id": "vzuqpvjzg5mr",
    "outputId": "71a281ef-b3f9-4df5-862d-f6963006db6d"
   },
   "outputs": [],
   "source": [
    "draw_roc_curve_RF(classifier, X_test, y_test, label = None)"
   ]
  },
  {
   "cell_type": "markdown",
   "metadata": {
    "id": "NxyF5TGjg5mr"
   },
   "source": [
    "# XGBoost"
   ]
  },
  {
   "cell_type": "code",
   "execution_count": null,
   "metadata": {
    "colab": {
     "base_uri": "https://localhost:8080/"
    },
    "id": "8OA7eifqg5mr",
    "outputId": "bcc4dcdd-a554-4760-e2cd-e2b5a2d2a673"
   },
   "outputs": [],
   "source": [
    "from xgboost import XGBClassifier\n",
    "classifier=XGBClassifier(\n",
    " learning_rate =0.1,\n",
    " n_estimators=1000,\n",
    " max_depth=5,\n",
    " min_child_weight=1,\n",
    " gamma=0,\n",
    " subsample=0.8,\n",
    " colsample_bytree=0.8)\n",
    "classifier.fit(X_train,y_train)"
   ]
  },
  {
   "cell_type": "code",
   "execution_count": null,
   "metadata": {
    "id": "lJ09n4ddg5ms"
   },
   "outputs": [],
   "source": [
    "y_pred=classifier.predict(X_test)"
   ]
  },
  {
   "cell_type": "code",
   "execution_count": null,
   "metadata": {
    "colab": {
     "base_uri": "https://localhost:8080/",
     "height": 320
    },
    "id": "9vBSRsWJg5ms",
    "outputId": "e556d2e6-abcd-458b-e105-896e646bb13f"
   },
   "outputs": [],
   "source": [
    "# confusion Matrix\n",
    "cm=confusion_matrix(y_test,y_pred)\n",
    "conf_matrix=pd.DataFrame(data=cm,columns=['Predicted:0','Predicted:1'],index=['Actual:0','Actual:1'])\n",
    "plt.figure(figsize = (8,5))\n",
    "sns.heatmap(conf_matrix, annot=True,fmt='d',cmap=\"YlGnBu\");"
   ]
  },
  {
   "cell_type": "code",
   "execution_count": null,
   "metadata": {
    "colab": {
     "base_uri": "https://localhost:8080/"
    },
    "id": "vRDrnqdSg5ms",
    "outputId": "813f5316-c356-4513-f4b7-56b272c0f293"
   },
   "outputs": [],
   "source": [
    "print(accuracy_score(y_test,y_pred))"
   ]
  },
  {
   "cell_type": "code",
   "execution_count": null,
   "metadata": {
    "colab": {
     "base_uri": "https://localhost:8080/"
    },
    "id": "SuW_lAb8g5mt",
    "outputId": "581c1630-3b14-4d85-9eb9-a6e867d961cf"
   },
   "outputs": [],
   "source": [
    "print(classification_report(y_test,y_pred))"
   ]
  },
  {
   "cell_type": "code",
   "execution_count": null,
   "metadata": {
    "id": "ErOafaWJg5mt"
   },
   "outputs": [],
   "source": [
    "from sklearn import metrics\n",
    "def buildROC(model, y_test,y_pred, label = None):\n",
    "    fpr, tpr, threshold = metrics.roc_curve(y_test, y_pred)\n",
    "    roc_auc = metrics.auc(fpr, tpr)\n",
    "    plt.title('Receiver Operating Characteristic')\n",
    "    plt.plot(fpr, tpr, 'b', label = 'AUC = %0.2f' % roc_auc)\n",
    "    plt.figure(figsize=(8, 6)) \n",
    "    plt.plot(fpr, tpr, linewidth=2, label=label)\n",
    "    plt.plot([0, 1], [0, 1], 'k--') \n",
    "    plt.axis([0, 1, 0, 1])                                    \n",
    "    plt.xlabel('False Positive Rate', fontsize=16)\n",
    "    plt.ylabel('True Positive Rate', fontsize=16)    \n",
    "    plt.grid(True)   "
   ]
  },
  {
   "cell_type": "code",
   "execution_count": null,
   "metadata": {
    "colab": {
     "base_uri": "https://localhost:8080/",
     "height": 397
    },
    "id": "3Tm18Qu7g5mt",
    "outputId": "dfd0d20c-a227-4352-cc3a-5ca7257554f3"
   },
   "outputs": [],
   "source": [
    "draw_roc_curve_RF(classifier, X_test, y_test, label = None)"
   ]
  },
  {
   "cell_type": "markdown",
   "metadata": {
    "id": "8G_WaRo4g5mu"
   },
   "source": [
    "# XGBoost with Undersampling"
   ]
  },
  {
   "cell_type": "code",
   "execution_count": null,
   "metadata": {
    "id": "yLYjbl5Tg5mu"
   },
   "outputs": [],
   "source": [
    "#pip install xgboost"
   ]
  },
  {
   "cell_type": "code",
   "execution_count": null,
   "metadata": {
    "id": "BIONER-Eg5mu"
   },
   "outputs": [],
   "source": [
    "from xgboost import XGBClassifier"
   ]
  },
  {
   "cell_type": "code",
   "execution_count": null,
   "metadata": {
    "id": "CL938iVEg5mu"
   },
   "outputs": [],
   "source": [
    "t0=time.time()\n",
    "k=0.5\n",
    "while k<=1:\n",
    "    u_sample = RandomUnderSampler(sampling_strategy=k)\n",
    "    X_train_under,y_train_under = u_sample.fit_resample(X_train,y_train)\n",
    "    c0=X_train_under[y_train_under==0]\n",
    "    c1=X_train_under[y_train_under==1]\n",
    "    print(len(c0),len(c1))\n",
    "    classifier=XGBClassifier( \n",
    "        learning_rate =0.1,\n",
    "        n_estimators=50,\n",
    "        max_depth=5,\n",
    "        min_child_weight=4,\n",
    "        gamma=0.1,\n",
    "        subsample=0.8,\n",
    "        colsample_bytree=0.8)\n",
    "    classifier.fit(X_train_under,y_train_under)\n",
    "    #adap=RandomForestClassifier(n_estimators=10)\n",
    "    #adap=AdaBoostClassifier(base_estimator=clfsm,n_estimators=10)\n",
    "    #adap.fit(Xtrsm,ytrsm)\n",
    "    pred=classifier.predict(X_test)\n",
    "    print(\"K=\",k)\n",
    "    print(\"\\nCONFUSION METRICS\\n\",confusion_matrix(y_test,pred))\n",
    "    print(\"\\nCLASSIFICATION REPORT\\n\",classification_report(y_test,pred))\n",
    "    tn=time.time()-t0\n",
    "    print(tn)\n",
    "    print(\"-\"*100)\n",
    "    k=k+0.1"
   ]
  },
  {
   "cell_type": "code",
   "execution_count": null,
   "metadata": {
    "colab": {
     "base_uri": "https://localhost:8080/"
    },
    "id": "QJ1BcjrOg5mv",
    "outputId": "a1fcbc7f-688b-43d1-c00a-471380013251"
   },
   "outputs": [],
   "source": [
    "u_sample_xg = RandomUnderSampler(sampling_strategy=0.7)\n",
    "X_train_under_xg,y_train_under_xg = u_sample_xg.fit_resample(X_train,y_train)\n",
    "    \n",
    "classifier=XGBClassifier(        \n",
    "        learning_rate =0.1,\n",
    "        n_estimators=50,\n",
    "        max_depth=5,\n",
    "        min_child_weight=4,\n",
    "        gamma=0.1,\n",
    "        subsample=0.8,\n",
    "        colsample_bytree=0.8)\n",
    "classifier.fit(X_train_under_xg,y_train_under_xg)"
   ]
  },
  {
   "cell_type": "code",
   "execution_count": null,
   "metadata": {
    "id": "sufGPXgGg5mv"
   },
   "outputs": [],
   "source": [
    "y_pred=classifier.predict(X_test)"
   ]
  },
  {
   "cell_type": "code",
   "execution_count": null,
   "metadata": {
    "colab": {
     "base_uri": "https://localhost:8080/",
     "height": 320
    },
    "id": "5XkMAPX-g5mv",
    "outputId": "3eb95cec-874b-4e29-f1de-ab8cb64cccde"
   },
   "outputs": [],
   "source": [
    "cm=confusion_matrix(y_test,y_pred)\n",
    "conf_matrix=pd.DataFrame(data=cm,columns=['Predicted:0','Predicted:1'],index=['Actual:0','Actual:1'])\n",
    "plt.figure(figsize = (8,5))\n",
    "sns.heatmap(conf_matrix, annot=True,fmt='d',cmap=\"YlGnBu\");"
   ]
  },
  {
   "cell_type": "code",
   "execution_count": null,
   "metadata": {
    "colab": {
     "base_uri": "https://localhost:8080/"
    },
    "id": "2eAwWPSHg5mv",
    "outputId": "a596137f-3dcf-4b38-8d96-74a6d57e270c"
   },
   "outputs": [],
   "source": [
    "print(accuracy_score(y_test,y_pred))"
   ]
  },
  {
   "cell_type": "code",
   "execution_count": null,
   "metadata": {
    "colab": {
     "base_uri": "https://localhost:8080/"
    },
    "id": "qTtGYm9vg5mw",
    "outputId": "3470fe16-2950-419b-d0a5-b80cbc49cdf1"
   },
   "outputs": [],
   "source": [
    "print(classification_report(y_test,y_pred))"
   ]
  },
  {
   "cell_type": "code",
   "execution_count": null,
   "metadata": {
    "colab": {
     "base_uri": "https://localhost:8080/",
     "height": 397
    },
    "id": "wxyEyz9zg5mw",
    "outputId": "c69b5bca-b228-4cf3-f43e-5b0c80925b3f"
   },
   "outputs": [],
   "source": [
    "draw_roc_curve_RF(classifier, X_test, y_test, label = None)"
   ]
  },
  {
   "cell_type": "markdown",
   "metadata": {
    "id": "HEijKVqzg5mw"
   },
   "source": [
    "# XGBoost with SMOTE"
   ]
  },
  {
   "cell_type": "code",
   "execution_count": null,
   "metadata": {
    "id": "ALfHidErg5mw",
    "scrolled": true
   },
   "outputs": [],
   "source": [
    "t0=time.time()\n",
    "k=0.5\n",
    "while k<=1:\n",
    "    o_sample = SMOTE(sampling_strategy=k)\n",
    "    X_train_over,y_train_over = o_sample.fit_resample(X_train,y_train)\n",
    "    c0=X_train_over[y_train_over==0]\n",
    "    c1=X_train_over[y_train_over==1]\n",
    "    print(len(c0),len(c1))\n",
    "    classifier=XGBClassifier(        \n",
    "        learning_rate =0.1,\n",
    "        n_estimators=870,\n",
    "        max_depth=10,\n",
    "        min_child_weight=6,\n",
    "        gamma=0.1,\n",
    "        subsample=0.7,\n",
    "        colsample_bytree=0.95)\n",
    "    classifier.fit(X_train_over,y_train_over)\n",
    "    #adap=RandomForestClassifier(n_estimators=10)\n",
    "    #adap=AdaBoostClassifier(base_estimator=clfsm,n_estimators=10)\n",
    "    #adap.fit(Xtrsm,ytrsm)\n",
    "    pred=classifier.predict(X_test)\n",
    "    print(\"K=\",k)\n",
    "    print(\"\\nCONFUSION METRICS\\n\",confusion_matrix(y_test,pred))\n",
    "    print(\"\\nCLASSIFICATION REPORT\\n\",classification_report(y_test,pred))\n",
    "    tn=time.time()-t0\n",
    "    print(tn)\n",
    "    print(\"-\"*100)\n",
    "    k=k+0.1"
   ]
  },
  {
   "cell_type": "code",
   "execution_count": null,
   "metadata": {
    "colab": {
     "base_uri": "https://localhost:8080/"
    },
    "id": "HPbPa5gVg5mx",
    "outputId": "5659d73d-8f1c-40cc-d915-f566196639c3"
   },
   "outputs": [],
   "source": [
    "o_sample_xg = SMOTE(sampling_strategy=0.5, random_state=4003)\n",
    "X_train_over_xg,y_train_over_xg = o_sample_xg.fit_resample(X_train,y_train)\n",
    "    \n",
    "classifier=XGBClassifier(        \n",
    "        learning_rate =0.1,\n",
    "        n_estimators=870,\n",
    "        max_depth=10,\n",
    "        min_child_weight=6,\n",
    "        gamma=0.1,\n",
    "        subsample=0.7,\n",
    "        colsample_bytree=0.95)\n",
    "classifier.fit(X_train_over_xg,y_train_over_xg)"
   ]
  },
  {
   "cell_type": "code",
   "execution_count": null,
   "metadata": {
    "id": "7EodpUTng5mx"
   },
   "outputs": [],
   "source": [
    "y_pred=classifier.predict(X_test)"
   ]
  },
  {
   "cell_type": "code",
   "execution_count": null,
   "metadata": {
    "colab": {
     "base_uri": "https://localhost:8080/",
     "height": 321
    },
    "id": "aCbgYH1Qg5mx",
    "outputId": "2830384c-9ff3-49a3-d437-617b43e38733"
   },
   "outputs": [],
   "source": [
    "cm=confusion_matrix(y_test,y_pred)\n",
    "conf_matrix=pd.DataFrame(data=cm,columns=['Predicted:0','Predicted:1'],index=['Actual:0','Actual:1'])\n",
    "plt.figure(figsize = (8,5))\n",
    "sns.heatmap(conf_matrix, annot=True,fmt='d',cmap=\"YlGnBu\");"
   ]
  },
  {
   "cell_type": "code",
   "execution_count": null,
   "metadata": {
    "colab": {
     "base_uri": "https://localhost:8080/"
    },
    "id": "Bu7bSdQTg5mx",
    "outputId": "ea9b2504-018d-45e0-fdc3-57f06ec52e71"
   },
   "outputs": [],
   "source": [
    "print(accuracy_score(y_test,y_pred))"
   ]
  },
  {
   "cell_type": "code",
   "execution_count": null,
   "metadata": {
    "colab": {
     "base_uri": "https://localhost:8080/"
    },
    "id": "ZbCx3hLyg5my",
    "outputId": "200e54e1-634d-4367-d893-f4e2bdd23d45"
   },
   "outputs": [],
   "source": [
    "print(classification_report(y_test,y_pred))"
   ]
  },
  {
   "cell_type": "code",
   "execution_count": null,
   "metadata": {
    "colab": {
     "base_uri": "https://localhost:8080/",
     "height": 397
    },
    "id": "tGhtJySYg5mz",
    "outputId": "24677932-40a6-49e0-e0d0-7bbee9f55e5f"
   },
   "outputs": [],
   "source": [
    "draw_roc_curve_RF(classifier, X_test, y_test, label = None)"
   ]
  },
  {
   "cell_type": "markdown",
   "metadata": {
    "id": "vFjcJ41dg5mz"
   },
   "source": [
    "# "
   ]
  },
  {
   "cell_type": "markdown",
   "metadata": {
    "id": "l2B8zUClg5mz"
   },
   "source": [
    "# Support Vector Machine(SVM)"
   ]
  },
  {
   "cell_type": "code",
   "execution_count": null,
   "metadata": {
    "colab": {
     "base_uri": "https://localhost:8080/"
    },
    "id": "CCXbuLHcg5mz",
    "outputId": "026e130b-4d09-4686-9bf6-3d3021b9aabd"
   },
   "outputs": [],
   "source": [
    "from sklearn import svm\n",
    "\n",
    "#Create a svm Classifier\n",
    "classifier = svm.SVC(kernel='linear',probability=True) # Linear Kernel\n",
    "classifier.fit(X_train,y_train)"
   ]
  },
  {
   "cell_type": "code",
   "execution_count": null,
   "metadata": {
    "id": "wyEAJzj4g5m0"
   },
   "outputs": [],
   "source": [
    "y_pred=classifier.predict(X_test)"
   ]
  },
  {
   "cell_type": "code",
   "execution_count": null,
   "metadata": {
    "colab": {
     "base_uri": "https://localhost:8080/",
     "height": 320
    },
    "id": "tr9mBNS7g5m0",
    "outputId": "b10e3641-4cbf-4e2c-ed14-563bdeaf7b5b"
   },
   "outputs": [],
   "source": [
    "# confusion Matrix\n",
    "cm=confusion_matrix(y_test,y_pred)\n",
    "conf_matrix=pd.DataFrame(data=cm,columns=['Predicted:0','Predicted:1'],index=['Actual:0','Actual:1'])\n",
    "plt.figure(figsize = (8,5))\n",
    "sns.heatmap(conf_matrix, annot=True,fmt='d',cmap=\"YlGnBu\");"
   ]
  },
  {
   "cell_type": "code",
   "execution_count": null,
   "metadata": {
    "colab": {
     "base_uri": "https://localhost:8080/"
    },
    "id": "qyay8yYFg5m0",
    "outputId": "b3b2227f-0c75-4cd5-e054-f065bd6f5048"
   },
   "outputs": [],
   "source": [
    "print(accuracy_score(y_test,y_pred))"
   ]
  },
  {
   "cell_type": "code",
   "execution_count": null,
   "metadata": {
    "colab": {
     "base_uri": "https://localhost:8080/"
    },
    "id": "_7A7X0zEg5m0",
    "outputId": "e32054d9-1725-47ee-b6ef-a707f7eb01c5"
   },
   "outputs": [],
   "source": [
    "print(classification_report(y_test,y_pred))"
   ]
  },
  {
   "cell_type": "code",
   "execution_count": null,
   "metadata": {
    "colab": {
     "base_uri": "https://localhost:8080/",
     "height": 397
    },
    "id": "1LkCcWt9g5m1",
    "outputId": "9d80a192-c30b-4ee3-f6a9-0fb3c3078263"
   },
   "outputs": [],
   "source": [
    "draw_roc_curve_RF(classifier, X_test, y_test, label = None)"
   ]
  },
  {
   "cell_type": "markdown",
   "metadata": {
    "id": "7eOuAlZmg5m1"
   },
   "source": [
    "# SVM with Under Sampling"
   ]
  },
  {
   "cell_type": "code",
   "execution_count": null,
   "metadata": {
    "id": "xTx7hj7Qg5m1"
   },
   "outputs": [],
   "source": [
    "from sklearn import svm\n",
    "from imblearn.under_sampling import RandomUnderSampler\n",
    "import time\n",
    "t0=time.time()\n",
    "k=0.5\n",
    "while k<=1:\n",
    "    u_sample = RandomUnderSampler(sampling_strategy=k)\n",
    "    X_train_under,y_train_under = u_sample.fit_resample(X_train,y_train)\n",
    "    c0=X_train_under[y_train_under==0]\n",
    "    c1=X_train_under[y_train_under==1]\n",
    "    print(len(c0),len(c1))\n",
    "    classifier = svm.SVC(kernel='linear',probability=True) # Linear Kernel\n",
    "    classifier.fit(X_train_under,y_train_under)\n",
    "    pred=classifier.predict(X_test)\n",
    "    print(\"K=\",k)\n",
    "    print(\"\\nCONFUSION METRICS\\n\",confusion_matrix(y_test,pred))\n",
    "    print(\"\\nCLASSIFICATION REPORT\\n\",classification_report(y_test,pred))\n",
    "    tn=time.time()-t0\n",
    "    print(tn)\n",
    "    print(\"-\"*100)\n",
    "    k=k+0.1"
   ]
  },
  {
   "cell_type": "code",
   "execution_count": null,
   "metadata": {
    "colab": {
     "base_uri": "https://localhost:8080/"
    },
    "id": "nvfNouuGg5m1",
    "outputId": "8cd4d0de-3e95-4bf6-a0bf-904d4e9012ee"
   },
   "outputs": [],
   "source": [
    "from imblearn.under_sampling import RandomUnderSampler\n",
    "u_sample_rf = RandomUnderSampler(sampling_strategy=0.7)\n",
    "X_train_under_svm,y_train_under_svm = u_sample_rf.fit_resample(X_train,y_train)\n",
    "    \n",
    "classifier = svm.SVC(kernel='linear',probability=True) # Linear Kernel\n",
    "classifier.fit(X_train_under_svm,y_train_under_svm)"
   ]
  },
  {
   "cell_type": "code",
   "execution_count": null,
   "metadata": {
    "id": "i2u9-JWKg5m2"
   },
   "outputs": [],
   "source": [
    "y_pred=classifier.predict(X_test)"
   ]
  },
  {
   "cell_type": "code",
   "execution_count": null,
   "metadata": {
    "colab": {
     "base_uri": "https://localhost:8080/",
     "height": 320
    },
    "id": "H-BlUT_ag5m2",
    "outputId": "1bff3b0a-afdb-400d-d292-ba8b82b373fb"
   },
   "outputs": [],
   "source": [
    "cm=confusion_matrix(y_test,y_pred)\n",
    "conf_matrix=pd.DataFrame(data=cm,columns=['Predicted:0','Predicted:1'],index=['Actual:0','Actual:1'])\n",
    "plt.figure(figsize = (8,5))\n",
    "sns.heatmap(conf_matrix, annot=True,fmt='d',cmap=\"YlGnBu\");"
   ]
  },
  {
   "cell_type": "code",
   "execution_count": null,
   "metadata": {
    "colab": {
     "base_uri": "https://localhost:8080/"
    },
    "id": "WmWSzZH2g5m2",
    "outputId": "bc900317-c967-43da-df99-f91a271f20fb"
   },
   "outputs": [],
   "source": [
    "print(accuracy_score(y_test,y_pred))"
   ]
  },
  {
   "cell_type": "code",
   "execution_count": null,
   "metadata": {
    "colab": {
     "base_uri": "https://localhost:8080/"
    },
    "id": "XxY7K1i5g5m2",
    "outputId": "f1e13fd5-dbc3-48f4-f83d-6168d6b15c05"
   },
   "outputs": [],
   "source": [
    "print(classification_report(y_test,y_pred))"
   ]
  },
  {
   "cell_type": "code",
   "execution_count": null,
   "metadata": {
    "colab": {
     "base_uri": "https://localhost:8080/",
     "height": 397
    },
    "id": "RJr2DSDLg5m3",
    "outputId": "4e86e0f3-b97b-4847-9fd3-3b1d82523892"
   },
   "outputs": [],
   "source": [
    "draw_roc_curve_RF(classifier, X_test, y_test, label = None)"
   ]
  },
  {
   "cell_type": "markdown",
   "metadata": {
    "id": "GndqqQzAg5m3"
   },
   "source": [
    "# SVM with Over Sampling"
   ]
  },
  {
   "cell_type": "code",
   "execution_count": null,
   "metadata": {
    "id": "Swmx9Fv0g5m3",
    "outputId": "edabb62d-1b67-419e-cff3-d87e908c47fd"
   },
   "outputs": [
    {
     "name": "stdout",
     "output_type": "stream",
     "text": [
      "213228 106614\n"
     ]
    }
   ],
   "source": [
    "import time\n",
    "from sklearn import svm\n",
    "from imblearn.over_sampling import RandomOverSampler\n",
    "\n",
    "t0=time.time()\n",
    "k=0.5\n",
    "while k<=1:\n",
    "    o_sample = RandomOverSampler(sampling_strategy=k)\n",
    "    X_train_over,y_train_over = o_sample.fit_resample(X_train,y_train)\n",
    "    c0=X_train_over[y_train_over==0]\n",
    "    c1=X_train_over[y_train_over==1]\n",
    "    print(len(c0),len(c1))\n",
    "    classifier = svm.SVC(kernel='linear',probability=True) # Linear Kernel\n",
    "    classifier.fit(X_train_over,y_train_over)\n",
    "    #adap=RandomForestClassifier(n_estimators=10)\n",
    "    #adap=AdaBoostClassifier(base_estimator=clfsm,n_estimators=10)\n",
    "    #adap.fit(Xtrsm,ytrsm)\n",
    "    pred=classifier.predict(X_test)\n",
    "    print(\"K=\",k)\n",
    "    print(\"\\nCONFUSION METRICS\\n\",confusion_matrix(y_test,pred))\n",
    "    print(\"\\nCLASSIFICATION REPORT\\n\",classification_report(y_test,pred))\n",
    "    tn=time.time()-t0\n",
    "    print(tn)\n",
    "    print(\"-\"*100)\n",
    "    k=k+0.1"
   ]
  },
  {
   "cell_type": "code",
   "execution_count": null,
   "metadata": {
    "colab": {
     "base_uri": "https://localhost:8080/"
    },
    "id": "kJeVpj85g5m4",
    "outputId": "87c0a167-a005-4898-84df-c28bd9e6ba16"
   },
   "outputs": [],
   "source": [
    "from sklearn import svm\n",
    "from imblearn.over_sampling import RandomOverSampler\n",
    "o_sample_svm = RandomOverSampler(sampling_strategy=0.8)\n",
    "X_train_over_svm,y_train_over_svm = o_sample_svm.fit_resample(X_train , y_train)\n",
    "    \n",
    "classifier = svm.SVC(kernel='linear',probability=True) # Linear Kernel\n",
    "classifier.fit(X_train_over_svm,y_train_over_svm)"
   ]
  },
  {
   "cell_type": "code",
   "execution_count": null,
   "metadata": {
    "id": "8jxX_tnjg5m4"
   },
   "outputs": [],
   "source": [
    "y_pred=classifier.predict(X_test)"
   ]
  },
  {
   "cell_type": "code",
   "execution_count": null,
   "metadata": {
    "id": "h-W9Qa21g5m4"
   },
   "outputs": [],
   "source": [
    "cm=confusion_matrix(y_test,y_pred)\n",
    "conf_matrix=pd.DataFrame(data=cm,columns=['Predicted:0','Predicted:1'],index=['Actual:0','Actual:1'])\n",
    "plt.figure(figsize = (8,5))\n",
    "sns.heatmap(conf_matrix, annot=True,fmt='d',cmap=\"YlGnBu\");"
   ]
  },
  {
   "cell_type": "code",
   "execution_count": null,
   "metadata": {
    "id": "dCLEbBHOg5m4"
   },
   "outputs": [],
   "source": [
    "print(accuracy_score(y_test,y_pred))"
   ]
  },
  {
   "cell_type": "code",
   "execution_count": null,
   "metadata": {
    "id": "qhA6jktZg5m4"
   },
   "outputs": [],
   "source": [
    "print(classification_report(y_test,y_pred))"
   ]
  },
  {
   "cell_type": "code",
   "execution_count": null,
   "metadata": {
    "id": "lNFOUZKog5m5"
   },
   "outputs": [],
   "source": [
    "draw_roc_curve_RF(classifier, X_test, y_test, label = None)"
   ]
  },
  {
   "cell_type": "markdown",
   "metadata": {
    "id": "hqno3j2cg5m5"
   },
   "source": [
    "# Using ROC & AUC Curve to select the best model"
   ]
  },
  {
   "cell_type": "code",
   "execution_count": null,
   "metadata": {
    "colab": {
     "base_uri": "https://localhost:8080/"
    },
    "id": "e9Y-Qacjg5m5",
    "outputId": "5a6f9c59-b0b6-47e3-922f-2a2293097f17"
   },
   "outputs": [],
   "source": [
    "clf_lr=GridSearchCV(log_class,grid,cv=cv,n_jobs=-1,scoring='f1_macro')\n",
    "\n",
    "model_lr = clf_lr.fit(X_train,y_train)\n",
    "probs_lr = model_lr.predict_proba(X_test)[:, 1]\n",
    "\n",
    "model_rf = RandomForestClassifier(n_estimators = 10).fit(X_train,y_train)\n",
    "probs_rf = model_rf.predict_proba(X_test)[:, 1]\n",
    "\n",
    "model_xg = XGBClassifier().fit(X_train,y_train)\n",
    "probs_xg = model_xg.predict_proba(X_test)[:, 1]\n",
    "\n",
    "model_svm = svm.SVC(kernel='linear',probability=True).fit(X_train,y_train)\n",
    "probs_svm = model_svm.predict_proba(X_test)[:, 1]\n",
    "\n",
    "model_lr_under = clf_lr.fit(X_train_under_lr,y_train_under_lr)\n",
    "probs_lr_under = model_lr_under.predict_proba(X_test)[:, 1]\n",
    "\n",
    "model_rf_under = RandomForestClassifier(n_estimators = 10).fit(X_train_under_rf,y_train_under_rf)\n",
    "probs_rf_under = model_rf_under.predict_proba(X_test)[:, 1]\n",
    "\n",
    "model_xg_under = XGBClassifier().fit(X_train_under_xg,y_train_under_xg)\n",
    "probs_xg_under = model_xg_under.predict_proba(X_test)[:, 1]\n",
    "\n",
    "model_svm_under = svm.SVC(kernel='linear',probability=True).fit(X_train_under_svm,y_train_under_svm)\n",
    "probs_svm_under = model_svm_under.predict_proba(X_test)[:, 1]\n",
    "\n",
    "model_lr_over = clf_lr.fit(X_train_over_lr,y_train_over_lr)\n",
    "probs_lr_over = model_lr_over.predict_proba(X_test)[:, 1]\n",
    "\n",
    "model_rf_over = RandomForestClassifier(n_estimators = 10).fit(X_train_over_rf,y_train_over_rf)\n",
    "probs_rf_over = model_rf_over.predict_proba(X_test)[:, 1]\n",
    "\n",
    "model_xg_over = XGBClassifier().fit(X_train_over_xg,y_train_over_xg)\n",
    "probs_xg_over = model_xg_over.predict_proba(X_test)[:, 1]"
   ]
  },
  {
   "cell_type": "code",
   "execution_count": null,
   "metadata": {
    "colab": {
     "base_uri": "https://localhost:8080/",
     "height": 467
    },
    "id": "s_bRmTrmg5m5",
    "outputId": "9c775a53-0cb8-495a-fef2-fbc34def0989"
   },
   "outputs": [],
   "source": [
    "auc_lr = roc_auc_score(y_test, probs_lr)\n",
    "fpr_lr, tpr_lr, thresholds_lr = roc_curve(y_test, probs_lr)\n",
    "\n",
    "auc_rf = roc_auc_score(y_test, probs_rf)\n",
    "fpr_rf, tpr_rf, thresholds_rf = roc_curve(y_test, probs_rf)\n",
    "\n",
    "auc_xg = roc_auc_score(y_test, probs_xg)\n",
    "fpr_xg, tpr_xg, thresholds_xg = roc_curve(y_test, probs_xg)\n",
    "\n",
    "auc_svm = roc_auc_score(y_test, probs_xg)\n",
    "fpr_svm, tpr_xg, thresholds_xg = roc_curve(y_test, probs_xg)\n",
    "\n",
    "auc_lr_under = roc_auc_score(y_test, probs_lr_under)\n",
    "fpr_lr_under, tpr_lr_under, thresholds_lr_under = roc_curve(y_test, probs_lr_under)\n",
    "\n",
    "auc_rf_under = roc_auc_score(y_test, probs_rf_under)\n",
    "fpr_rf_under, tpr_rf_under, thresholds_rf_under = roc_curve(y_test, probs_rf_under)\n",
    "\n",
    "auc_xg_under = roc_auc_score(y_test, probs_xg_under)\n",
    "fpr_xg_under, tpr_xg_under, thresholds_xg_under = roc_curve(y_test, probs_xg_under)\n",
    "\n",
    "auc_svm_under = roc_auc_score(y_test, probs_svm_under)\n",
    "fpr_svm_under, tpr_svm_under, thresholds_svm_under = roc_curve(y_test, probs_svm_under)\n",
    "\n",
    "auc_lr_over = roc_auc_score(y_test, probs_lr)\n",
    "fpr_lr, tpr_lr, thresholds_lr = roc_curve(y_test, probs_lr)\n",
    "\n",
    "auc_rf_over = roc_auc_score(y_test, probs_rf)\n",
    "fpr_rf, tpr_rf, thresholds_rf = roc_curve(y_test, probs_rf)\n",
    "\n",
    "auc_xg_over = roc_auc_score(y_test, probs_xg)\n",
    "fpr_xg, tpr_xg, thresholds_xg = roc_curve(y_test, probs_xg)\n",
    "\n",
    "plt.figure(figsize=(12, 7))\n",
    "plt.plot(fpr_lr, tpr_lr, label=f'AUC (Logistic Regression) = {auc_lr:.2f}')\n",
    "plt.plot(fpr_rf, tpr_rf, label=f'AUC (Random Forests) = {auc_rf:.2f}')\n",
    "plt.plot(fpr_xg, tpr_xg, label=f'AUC (XGBoost) = {auc_xg:.2f}')\n",
    "plt.plot(fpr_svm_under, tpr_svm_under, label=f'AUC (SVM) = {auc_svm:.2f}')\n",
    "plt.plot(fpr_lr_under, tpr_lr_under, label=f'AUC (Logistic Regression-under) = {auc_lr_under:.2f}')\n",
    "plt.plot(fpr_rf_under, tpr_rf_under, label=f'AUC (Random Forests-under) = {auc_rf_under:.2f}')\n",
    "plt.plot(fpr_xg_under, tpr_xg_under, label=f'AUC (XGBoost-under) = {auc_xg_under:.2f}')\n",
    "plt.plot(fpr_svm_under, tpr_svm_under, label=f'AUC (SVM-under) = {auc_svm_under:.2f}')\n",
    "plt.plot(fpr_lr, tpr_lr, label=f'AUC (Logistic Regression-over) = {auc_lr_over:.2f}')\n",
    "plt.plot(fpr_rf, tpr_rf, label=f'AUC (Random Forests-over) = {auc_rf_over:.2f}')\n",
    "plt.plot(fpr_xg, tpr_xg, label=f'AUC (XGBoost-over) = {auc_xg_over:.2f}')\n",
    "plt.plot([0, 1], [0, 1], color='blue', linestyle='--', label='Baseline')\n",
    "plt.title('ROC Curve', size=20)\n",
    "plt.xlabel('False Positive Rate', size=14)\n",
    "plt.ylabel('True Positive Rate', size=14)\n",
    "plt.legend();"
   ]
  },
  {
   "cell_type": "markdown",
   "metadata": {
    "id": "2sToIuKwg5m6"
   },
   "source": [
    "# From the above AUC Curve and ROC value, we can say that the XgBoost Algorithm model is the best trained model for this dataset!"
   ]
  },
  {
   "cell_type": "code",
   "execution_count": null,
   "metadata": {},
   "outputs": [],
   "source": []
  }
 ],
 "metadata": {
  "colab": {
   "name": "credit-card-fraud-detection-final.ipynb",
   "provenance": [],
   "toc_visible": true
  },
  "kernelspec": {
   "display_name": "Python 3",
   "language": "python",
   "name": "python3"
  },
  "language_info": {
   "codemirror_mode": {
    "name": "ipython",
    "version": 3
   },
   "file_extension": ".py",
   "mimetype": "text/x-python",
   "name": "python",
   "nbconvert_exporter": "python",
   "pygments_lexer": "ipython3",
   "version": "3.8.5"
  }
 },
 "nbformat": 4,
 "nbformat_minor": 1
}
